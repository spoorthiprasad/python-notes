{
 "cells": [
  {
   "cell_type": "code",
   "execution_count": 3,
   "id": "20dbcd79-4998-4bc7-a642-fcfe05ebe4aa",
   "metadata": {},
   "outputs": [
    {
     "name": "stdout",
     "output_type": "stream",
     "text": [
      "hello from true if\n",
      "bye....outside of if block\n",
      "net salary= 18750.0\n"
     ]
    }
   ],
   "source": [
    "salary=25000\n",
    "if(salary>20000):\n",
    "    tax=0.25\n",
    "    print(\"hello from true if\")\n",
    "else:\n",
    "    tax=0.20\n",
    "    print(\"hello grom false if/ else\")\n",
    "print(\"bye....outside of if block\")    # this 3 line are common if the condition is true or false\n",
    "net_sal=salary-tax*salary  #0.25=tax\n",
    "print(\"net salary=\",net_sal)"
   ]
  },
  {
   "cell_type": "code",
   "execution_count": 5,
   "id": "05eacb19-a3d4-4603-90c8-ee6a20a82e1a",
   "metadata": {},
   "outputs": [
    {
     "data": {
      "text/plain": [
       "range(5, 10)"
      ]
     },
     "execution_count": 5,
     "metadata": {},
     "output_type": "execute_result"
    }
   ],
   "source": [
    "range(5,10)"
   ]
  },
  {
   "cell_type": "code",
   "execution_count": 11,
   "id": "ebca075d-5585-4e6f-adcf-576106a0b5fe",
   "metadata": {},
   "outputs": [
    {
     "name": "stdout",
     "output_type": "stream",
     "text": [
      "hello\n",
      "hello\n",
      "hello\n",
      "hello\n",
      "hello\n"
     ]
    }
   ],
   "source": [
    "for num in range (1,6):   #initially varinble num created,then the range(1,2,3,4,5,6),then variable initialize t0 1st range (num <6) then it will prints\n",
    "    print(\"hello\")"
   ]
  },
  {
   "cell_type": "code",
   "execution_count": 19,
   "id": "aac1c449-a116-4be8-a890-ddeae9dab334",
   "metadata": {},
   "outputs": [
    {
     "name": "stdout",
     "output_type": "stream",
     "text": [
      "5\n",
      "6\n",
      "7\n",
      "8\n",
      "9\n",
      "bye\n"
     ]
    }
   ],
   "source": [
    "for i in range (5,10):\n",
    "    print(i)    # it print the value of i until the condition became false(i<10)(i=5,6,7,8,9,10)\n",
    "print (\"bye\")\n"
   ]
  },
  {
   "cell_type": "code",
   "execution_count": null,
   "id": "353a84f3-7712-4373-84eb-1a911cdd80e0",
   "metadata": {},
   "outputs": [],
   "source": []
  },
  {
   "cell_type": "code",
   "execution_count": null,
   "id": "c7ad42d0-c52f-49d9-8412-d2990382b7de",
   "metadata": {},
   "outputs": [],
   "source": []
  },
  {
   "cell_type": "code",
   "execution_count": 23,
   "id": "9f2010cd-431d-400c-8bb3-75358eeb194c",
   "metadata": {},
   "outputs": [
    {
     "name": "stdout",
     "output_type": "stream",
     "text": [
      "1\n",
      "2\n",
      "3\n",
      "4\n",
      "5\n",
      "6\n",
      "7\n",
      "8\n",
      "9\n",
      "10\n"
     ]
    }
   ],
   "source": [
    "for i in range(1,11):\n",
    "    print(i)\n"
   ]
  },
  {
   "cell_type": "code",
   "execution_count": 25,
   "id": "c9559b20-4553-40e9-b1e9-013dd22bbb07",
   "metadata": {},
   "outputs": [
    {
     "name": "stdout",
     "output_type": "stream",
     "text": [
      "1\n",
      "3\n",
      "5\n",
      "7\n",
      "9\n"
     ]
    }
   ],
   "source": [
    "# print odd numbers from 1 to 10\n",
    "for i in range(1,11,2):    #print from 1 to 11 by adding 2 to each(i<11)\n",
    "    print(i)\n"
   ]
  },
  {
   "cell_type": "code",
   "execution_count": 31,
   "id": "462e807b-ad69-41ab-b964-5871f7199755",
   "metadata": {},
   "outputs": [
    {
     "name": "stdout",
     "output_type": "stream",
     "text": [
      "2\n",
      "4\n",
      "6\n",
      "8\n",
      "10\n"
     ]
    }
   ],
   "source": [
    "#to print an even numbers\n",
    "for i in range(2,11,2):  # just change an initial value \n",
    "    print(i)"
   ]
  },
  {
   "cell_type": "code",
   "execution_count": 1,
   "id": "162399b7-283b-46a1-adba-3b32b1c86288",
   "metadata": {},
   "outputs": [
    {
     "name": "stdout",
     "output_type": "stream",
     "text": [
      "1\n",
      "2\n",
      "3\n",
      "4\n",
      "same\n"
     ]
    }
   ],
   "source": [
    "#break statement terminate a loop statement when condition is satisfied\n",
    "for i in range(1,11):\n",
    "    if(i==5):   #comaparision \n",
    "        print(\"same\")\n",
    "        break\n",
    "    else:\n",
    "        print(i)"
   ]
  },
  {
   "cell_type": "code",
   "execution_count": 3,
   "id": "4851cf82-be2e-4587-9de4-06fa43709d30",
   "metadata": {},
   "outputs": [
    {
     "name": "stdout",
     "output_type": "stream",
     "text": [
      "0 0\n",
      "1 1\n",
      "2 4\n",
      "3 9\n",
      "4 16\n",
      "5 25\n",
      "6 36\n",
      "7 49\n",
      "8 64\n",
      "9 81\n",
      "10 100\n"
     ]
    }
   ],
   "source": [
    "for num in range(11):#indefault it start from 1\n",
    "    print(num,num**2)"
   ]
  },
  {
   "cell_type": "code",
   "execution_count": 5,
   "id": "333021cb-dd44-4f5b-afa8-df646a1c594c",
   "metadata": {},
   "outputs": [
    {
     "name": "stdout",
     "output_type": "stream",
     "text": [
      "1 @\n",
      "6 @\n",
      "11 @\n",
      "16 @\n",
      "21 @\n",
      "26 @\n"
     ]
    }
   ],
   "source": [
    "for i in range(1,31,5):\n",
    "    print(i,\"@\")"
   ]
  },
  {
   "cell_type": "code",
   "execution_count": 7,
   "id": "072fe5e1-23de-4245-9d50-8541686daefc",
   "metadata": {},
   "outputs": [
    {
     "name": "stdout",
     "output_type": "stream",
     "text": [
      "S\n",
      "C\n",
      "I\n",
      "E\n",
      "N\n",
      "C\n",
      "E\n"
     ]
    }
   ],
   "source": [
    "subject = \"SCIENCE\"\n",
    "for i in subject:    # here all alphabets are compared with back slash charactor \"/0\"\n",
    "    print(i)"
   ]
  },
  {
   "cell_type": "code",
   "execution_count": 15,
   "id": "199160fd-9b68-4792-9279-1740f9403937",
   "metadata": {},
   "outputs": [
    {
     "name": "stdout",
     "output_type": "stream",
     "text": [
      "spoo spoo spoo \n",
      "spoo spoo spoo spoo \n",
      "spoo spoo spoo spoo spoo \n",
      "spoo spoo spoo spoo spoo spoo \n",
      "spoospoospoo\n",
      "spoospoospoospoo\n",
      "spoospoospoospoospoo\n",
      "spoospoospoospoospoospoo\n"
     ]
    }
   ],
   "source": [
    "#print name 3 time in first line,4 times on 2nd ,5 times on 3rd,6 times on 4th ,range(3,7)\n",
    "name=\"spoo\"\n",
    "for i in range(3,7):\n",
    "    x=(name + \" \")*i   # to obtain space between spoo spoo \n",
    "    print(x)   \n",
    "    # another method \n",
    "name=\"spoo\"\n",
    "for i in range(3,7):\n",
    "    print(name * i)   #to obtain with outspace\n",
    "\n"
   ]
  },
  {
   "cell_type": "code",
   "execution_count": 25,
   "id": "78cff24f-f665-4931-a4f5-9b527d28af01",
   "metadata": {},
   "outputs": [
    {
     "name": "stdout",
     "output_type": "stream",
     "text": [
      "m  a  g  a  D  E  E  R  A  "
     ]
    }
   ],
   "source": [
    "movie = \"MAGAdeera\"\n",
    "for letter in movie:\n",
    "   # print(letter)   # print all letters \n",
    "    #print(letter.swapcase())  \n",
    "    print(letter.swapcase(),end=\" * \")    #end is a keyword"
   ]
  },
  {
   "cell_type": "code",
   "execution_count": 27,
   "id": "1a308962-03f9-434d-9af6-19a762eaebcd",
   "metadata": {},
   "outputs": [
    {
     "name": "stdout",
     "output_type": "stream",
     "text": [
      "odd number 1\n",
      "even number: 2\n",
      "odd number 3\n",
      "even number: 4\n",
      "odd number 5\n",
      "even number: 6\n",
      "odd number 7\n",
      "even number: 8\n",
      "odd number 9\n",
      "even number: 10\n"
     ]
    }
   ],
   "source": [
    "#  print all odd and even number in a given range of values\n",
    "for i in range(1,11):\n",
    "    if(i%2==0):\n",
    "        print(\"even number:\",i)\n",
    "    else:\n",
    "        print(\"odd number\",i)\n"
   ]
  },
  {
   "cell_type": "code",
   "execution_count": 41,
   "id": "8b3adc60-9241-4d1e-a4b0-597cf966c3cf",
   "metadata": {},
   "outputs": [
    {
     "name": "stdout",
     "output_type": "stream",
     "text": [
      "even number\n",
      "2 4 6 8 10 \n",
      "odd number\n",
      "1 3 5 7 9 "
     ]
    }
   ],
   "source": [
    "#  print all odd and even number in a given range of values using for loop\n",
    "print(\"even number\")\n",
    "for i in range(1,11):\n",
    "    if i%2==0:\n",
    "        print (i,end=\" \")\n",
    "print(\"\")  # new line\n",
    "print(\"odd number\")\n",
    "for i in range(1,11):\n",
    "    if(i%2==1):   #or i%2!=0\n",
    "        print(i,end=\" \")\n",
    "\n"
   ]
  },
  {
   "cell_type": "code",
   "execution_count": 52,
   "id": "fee24306-7157-459f-b098-66f4d640d85b",
   "metadata": {},
   "outputs": [
    {
     "name": "stdout",
     "output_type": "stream",
     "text": [
      "dddd aaaa tttt aaaa      ssss cccc iiii eeee nnnn cccc eeee "
     ]
    }
   ],
   "source": [
    "for letter in \"data science\":\n",
    "    print(letter*4,end=\" \" )"
   ]
  },
  {
   "cell_type": "code",
   "execution_count": 54,
   "id": "6170149e-a1ad-4022-8dd9-af911c7475e9",
   "metadata": {},
   "outputs": [
    {
     "data": {
      "text/plain": [
       "7"
      ]
     },
     "execution_count": 54,
     "metadata": {},
     "output_type": "execute_result"
    }
   ],
   "source": [
    "len(\"my name\")   #space  is also an charactor "
   ]
  },
  {
   "cell_type": "code",
   "execution_count": null,
   "id": "f645c713-ea02-44c1-8a7b-df2c3cf955c9",
   "metadata": {},
   "outputs": [],
   "source": [
    "#data structure :1.list,tupple ,dictionary,data frame\n",
    "#list are mutable :changable\n",
    "#created using square brackets[]\n"
   ]
  },
  {
   "cell_type": "code",
   "execution_count": 47,
   "id": "19903d1b-a15a-4ac0-bc19-ff27663fd801",
   "metadata": {},
   "outputs": [
    {
     "data": {
      "text/plain": [
       "[40, 50, 70, 80, 60, 85, 78]"
      ]
     },
     "execution_count": 47,
     "metadata": {},
     "output_type": "execute_result"
    }
   ],
   "source": [
    "# list:\n",
    "marks=[40,50,70,80,60,85,78]\n",
    "marks"
   ]
  },
  {
   "cell_type": "code",
   "execution_count": 60,
   "id": "eb23d37e-4464-48e1-bdb9-abdcb10159b2",
   "metadata": {},
   "outputs": [
    {
     "data": {
      "text/plain": [
       "list"
      ]
     },
     "execution_count": 60,
     "metadata": {},
     "output_type": "execute_result"
    }
   ],
   "source": [
    "type(marks)"
   ]
  },
  {
   "cell_type": "code",
   "execution_count": 62,
   "id": "9a64af21-a04a-4636-af45-6ea1b3b1b62e",
   "metadata": {},
   "outputs": [
    {
     "data": {
      "text/plain": [
       "['__add__',\n",
       " '__class__',\n",
       " '__class_getitem__',\n",
       " '__contains__',\n",
       " '__delattr__',\n",
       " '__delitem__',\n",
       " '__dir__',\n",
       " '__doc__',\n",
       " '__eq__',\n",
       " '__format__',\n",
       " '__ge__',\n",
       " '__getattribute__',\n",
       " '__getitem__',\n",
       " '__getstate__',\n",
       " '__gt__',\n",
       " '__hash__',\n",
       " '__iadd__',\n",
       " '__imul__',\n",
       " '__init__',\n",
       " '__init_subclass__',\n",
       " '__iter__',\n",
       " '__le__',\n",
       " '__len__',\n",
       " '__lt__',\n",
       " '__mul__',\n",
       " '__ne__',\n",
       " '__new__',\n",
       " '__reduce__',\n",
       " '__reduce_ex__',\n",
       " '__repr__',\n",
       " '__reversed__',\n",
       " '__rmul__',\n",
       " '__setattr__',\n",
       " '__setitem__',\n",
       " '__sizeof__',\n",
       " '__str__',\n",
       " '__subclasshook__',\n",
       " 'append',\n",
       " 'clear',\n",
       " 'copy',\n",
       " 'count',\n",
       " 'extend',\n",
       " 'index',\n",
       " 'insert',\n",
       " 'pop',\n",
       " 'remove',\n",
       " 'reverse',\n",
       " 'sort']"
      ]
     },
     "execution_count": 62,
     "metadata": {},
     "output_type": "execute_result"
    }
   ],
   "source": [
    "dir(list)  #directory of list"
   ]
  },
  {
   "cell_type": "code",
   "execution_count": 19,
   "id": "d8b0d6e3-a180-4346-85bf-5a78b5fc1bed",
   "metadata": {},
   "outputs": [
    {
     "data": {
      "text/plain": [
       "7"
      ]
     },
     "execution_count": 19,
     "metadata": {},
     "output_type": "execute_result"
    }
   ],
   "source": [
    "len(marks)"
   ]
  },
  {
   "cell_type": "code",
   "execution_count": 7,
   "id": "87737530-c689-46f5-b9b7-a99d53a0b1d3",
   "metadata": {},
   "outputs": [
    {
     "data": {
      "text/plain": [
       "[40, 50, 60, 70, 78, 80, 85]"
      ]
     },
     "execution_count": 7,
     "metadata": {},
     "output_type": "execute_result"
    }
   ],
   "source": [
    "new_marks=sorted(marks)   \n",
    "new_marks"
   ]
  },
  {
   "cell_type": "code",
   "execution_count": 21,
   "id": "f1bd1121-bb4c-46c4-8756-9b4f61b0f2c0",
   "metadata": {},
   "outputs": [
    {
     "data": {
      "text/plain": [
       "[40, 50, 60, 70, 78, 80, 85]"
      ]
     },
     "execution_count": 21,
     "metadata": {},
     "output_type": "execute_result"
    }
   ],
   "source": [
    "sorted(marks) # not change permanently because it is not defined in directory it can be change by assigned to into new one"
   ]
  },
  {
   "cell_type": "code",
   "execution_count": 41,
   "id": "e393b1ee-372e-4fe2-a76a-fa3eecc7ecd5",
   "metadata": {},
   "outputs": [],
   "source": [
    "marks.sort()"
   ]
  },
  {
   "cell_type": "code",
   "execution_count": 43,
   "id": "9f7a4751-3e0c-4616-bd6c-6f9bded35330",
   "metadata": {},
   "outputs": [
    {
     "data": {
      "text/plain": [
       "['o', 'o', 'p', 's']"
      ]
     },
     "execution_count": 43,
     "metadata": {},
     "output_type": "execute_result"
    }
   ],
   "source": [
    "name=\"spoo\"\n",
    "sorted(name)   #based on a ASCI values"
   ]
  },
  {
   "cell_type": "code",
   "execution_count": 51,
   "id": "879a40c6-2c13-4963-8c22-945b30948422",
   "metadata": {},
   "outputs": [
    {
     "data": {
      "text/plain": [
       "[40, 50, 70, 80, 60, 85, 78]"
      ]
     },
     "execution_count": 51,
     "metadata": {},
     "output_type": "execute_result"
    }
   ],
   "source": [
    "marks=[40,50,70,80,60,85,78]\n",
    "marks"
   ]
  },
  {
   "cell_type": "code",
   "execution_count": 53,
   "id": "71c7b90b-3a32-42b2-9c03-2d895a0978d7",
   "metadata": {},
   "outputs": [
    {
     "data": {
      "text/plain": [
       "[40, 50, 70, 80, 60, 85, 78, 35]"
      ]
     },
     "execution_count": 53,
     "metadata": {},
     "output_type": "execute_result"
    }
   ],
   "source": [
    "marks.append(35)   # append occurs only at the end of the list\n",
    "marks"
   ]
  },
  {
   "cell_type": "code",
   "execution_count": 59,
   "id": "62c939da-1212-4f1e-ad70-dd5da7c67fca",
   "metadata": {},
   "outputs": [
    {
     "data": {
      "text/plain": [
       "[35, 78, 85, 60, 80, 70, 50, 40]"
      ]
     },
     "execution_count": 59,
     "metadata": {},
     "output_type": "execute_result"
    }
   ],
   "source": [
    "marks.reverse()\n",
    "marks"
   ]
  },
  {
   "cell_type": "code",
   "execution_count": 73,
   "id": "58973bf4-99f6-4c63-8ec9-b500f2584f48",
   "metadata": {},
   "outputs": [
    {
     "data": {
      "text/plain": [
       "[42, 64, 50, 78, 87, 80]"
      ]
     },
     "execution_count": 73,
     "metadata": {},
     "output_type": "execute_result"
    }
   ],
   "source": [
    "marks2=[42,64,50,78,87,80]\n",
    "marks2\n"
   ]
  },
  {
   "cell_type": "code",
   "execution_count": 71,
   "id": "21e60111-bf53-40c1-a731-6c81f0e662ee",
   "metadata": {},
   "outputs": [
    {
     "data": {
      "text/plain": [
       "[87, 80, 78, 64, 50, 42]"
      ]
     },
     "execution_count": 71,
     "metadata": {},
     "output_type": "execute_result"
    }
   ],
   "source": [
    "marks2=[42,64,50,78,87,80]\n",
    "marks2.sort(reverse=True)\n",
    "marks2"
   ]
  },
  {
   "cell_type": "code",
   "execution_count": 75,
   "id": "71262843-f5d9-48d9-a21a-b8d617450658",
   "metadata": {},
   "outputs": [
    {
     "data": {
      "text/plain": [
       "[42, 50, 64, 78, 80, 87]"
      ]
     },
     "execution_count": 75,
     "metadata": {},
     "output_type": "execute_result"
    }
   ],
   "source": [
    "marks2=[42,64,50,78,87,80]\n",
    "marks2.sort(reverse=False)   #no need to give false statement in default it will select\n",
    "marks2"
   ]
  },
  {
   "cell_type": "code",
   "execution_count": 77,
   "id": "781e5936-e480-47f6-a81f-869a5750e468",
   "metadata": {},
   "outputs": [
    {
     "data": {
      "text/plain": [
       "[40, 50, 60, 70, 80, 85]"
      ]
     },
     "execution_count": 77,
     "metadata": {},
     "output_type": "execute_result"
    }
   ],
   "source": [
    "marks3=[40,50,60,70,80,85]\n",
    "marks3"
   ]
  },
  {
   "cell_type": "code",
   "execution_count": 81,
   "id": "4fb9c8a5-fa79-492b-8ce8-f79629686d7a",
   "metadata": {},
   "outputs": [
    {
     "data": {
      "text/plain": [
       "[40, 50, 60, 70, 43, 80, 85]"
      ]
     },
     "execution_count": 81,
     "metadata": {},
     "output_type": "execute_result"
    }
   ],
   "source": [
    "marks3.insert(4,43)   #to add in between we use insert appent always add an element at the end of the list\n",
    "marks3"
   ]
  },
  {
   "cell_type": "code",
   "execution_count": 83,
   "id": "5a7d2e59-9eba-4efa-8151-f3df24345c61",
   "metadata": {},
   "outputs": [
    {
     "data": {
      "text/plain": [
       "False"
      ]
     },
     "execution_count": 83,
     "metadata": {},
     "output_type": "execute_result"
    }
   ],
   "source": [
    "90 in marks"
   ]
  },
  {
   "cell_type": "code",
   "execution_count": 85,
   "id": "8228b9c3-c634-40fb-81c4-02ffb33734da",
   "metadata": {},
   "outputs": [
    {
     "data": {
      "text/plain": [
       "[10, 20, 30, 40, 50, 60]"
      ]
     },
     "execution_count": 85,
     "metadata": {},
     "output_type": "execute_result"
    }
   ],
   "source": [
    "list1=[10,20,30]\n",
    "list2=[40,50,60]\n",
    "list1+list2    # concatination "
   ]
  },
  {
   "cell_type": "code",
   "execution_count": 87,
   "id": "bc2ebd09-03ee-413d-8d85-cd6ceb399ade",
   "metadata": {},
   "outputs": [
    {
     "data": {
      "text/plain": [
       "[10, 20, 30, 40, 50, 60, 10, 20, 30, 40, 50, 60, 10, 20, 30, 40, 50, 60]"
      ]
     },
     "execution_count": 87,
     "metadata": {},
     "output_type": "execute_result"
    }
   ],
   "source": [
    "(list1+list2)*3"
   ]
  },
  {
   "cell_type": "code",
   "execution_count": 137,
   "id": "10e5147a-d30c-4176-b624-6f4a8c6207cd",
   "metadata": {},
   "outputs": [
    {
     "data": {
      "text/plain": [
       "['pen', 'pencil', 'book']"
      ]
     },
     "execution_count": 137,
     "metadata": {},
     "output_type": "execute_result"
    }
   ],
   "source": [
    "stationary=[\"pen\",\"pencil\",\"book\"]\n",
    "stationary"
   ]
  },
  {
   "cell_type": "code",
   "execution_count": null,
   "id": "af878c95-22cb-4495-b768-a73eb4451b49",
   "metadata": {},
   "outputs": [],
   "source": []
  },
  {
   "cell_type": "code",
   "execution_count": 139,
   "id": "5702134a-b15c-46ce-aeae-164d5268d868",
   "metadata": {},
   "outputs": [
    {
     "data": {
      "text/plain": [
       "3"
      ]
     },
     "execution_count": 139,
     "metadata": {},
     "output_type": "execute_result"
    }
   ],
   "source": [
    "len(stationary)"
   ]
  },
  {
   "cell_type": "code",
   "execution_count": 141,
   "id": "8037c9ff-7757-4df5-869a-565fef3624b4",
   "metadata": {},
   "outputs": [
    {
     "data": {
      "text/plain": [
       "['pen', 'pencil', 'book', ['notebook', 'book']]"
      ]
     },
     "execution_count": 141,
     "metadata": {},
     "output_type": "execute_result"
    }
   ],
   "source": [
    "stationary.append([\"notebook\",\"book\"])   #both element will be consider as a single element\n",
    "stationary"
   ]
  },
  {
   "cell_type": "code",
   "execution_count": 143,
   "id": "dfdde5fd-5ff0-4cf5-ac80-e5e4250ada31",
   "metadata": {},
   "outputs": [
    {
     "data": {
      "text/plain": [
       "4"
      ]
     },
     "execution_count": 143,
     "metadata": {},
     "output_type": "execute_result"
    }
   ],
   "source": [
    "len(stationary)     # count will always equal to zero because if append 2 element e+then it will be consider as a single "
   ]
  },
  {
   "cell_type": "code",
   "execution_count": 145,
   "id": "2644a2db-7606-46b5-a11d-27f175a37b24",
   "metadata": {},
   "outputs": [
    {
     "data": {
      "text/plain": [
       "'pencil'"
      ]
     },
     "execution_count": 145,
     "metadata": {},
     "output_type": "execute_result"
    }
   ],
   "source": [
    "stationary.pop(1)"
   ]
  },
  {
   "cell_type": "code",
   "execution_count": 147,
   "id": "152fa765-2820-401b-b4e1-72409f54f35e",
   "metadata": {},
   "outputs": [
    {
     "data": {
      "text/plain": [
       "['pen', 'book', ['notebook', 'book']]"
      ]
     },
     "execution_count": 147,
     "metadata": {},
     "output_type": "execute_result"
    }
   ],
   "source": [
    "stationary"
   ]
  },
  {
   "cell_type": "code",
   "execution_count": 149,
   "id": "02f4b847-8f65-4b49-beb0-7a1870c4e2d1",
   "metadata": {},
   "outputs": [
    {
     "data": {
      "text/plain": [
       "['pen', 'book', ['notebook', 'book'], 'pencil']"
      ]
     },
     "execution_count": 149,
     "metadata": {},
     "output_type": "execute_result"
    }
   ],
   "source": [
    "stationary.append(\"pencil\")\n",
    "stationary"
   ]
  },
  {
   "cell_type": "code",
   "execution_count": 151,
   "id": "8767758c-669a-4e20-a428-50fe498f131f",
   "metadata": {},
   "outputs": [
    {
     "data": {
      "text/plain": [
       "'pencil'"
      ]
     },
     "execution_count": 151,
     "metadata": {},
     "output_type": "execute_result"
    }
   ],
   "source": [
    "stationary.pop()     # if no argument means automatically last element will be deleted"
   ]
  },
  {
   "cell_type": "code",
   "execution_count": 153,
   "id": "30df0128-09e2-481b-a7e8-9766bbc59bde",
   "metadata": {},
   "outputs": [
    {
     "data": {
      "text/plain": [
       "['pen', 'book', ['notebook', 'book'], 'writing pad ', 'textbook', 'eraser']"
      ]
     },
     "execution_count": 153,
     "metadata": {},
     "output_type": "execute_result"
    }
   ],
   "source": [
    "stationary.extend(['writing pad ','textbook','eraser'])\n",
    "stationary\n"
   ]
  },
  {
   "cell_type": "code",
   "execution_count": 155,
   "id": "4f2bb39c-2de0-4406-bd73-f2659941ffad",
   "metadata": {},
   "outputs": [
    {
     "data": {
      "text/plain": [
       "6"
      ]
     },
     "execution_count": 155,
     "metadata": {},
     "output_type": "execute_result"
    }
   ],
   "source": [
    "len(stationary)"
   ]
  },
  {
   "cell_type": "code",
   "execution_count": 157,
   "id": "778260cb-b925-42bf-be12-5f42dbcdb32c",
   "metadata": {},
   "outputs": [
    {
     "data": {
      "text/plain": [
       "['pen', 'book', ['notebook', 'book'], 'writing pad ', 'textbook']"
      ]
     },
     "execution_count": 157,
     "metadata": {},
     "output_type": "execute_result"
    }
   ],
   "source": [
    "stationary.remove(\"eraser\")\n",
    "stationary"
   ]
  },
  {
   "cell_type": "code",
   "execution_count": 159,
   "id": "c02eddb0-21d2-4e46-b6c9-8e9caa7b8299",
   "metadata": {},
   "outputs": [
    {
     "data": {
      "text/plain": [
       "5"
      ]
     },
     "execution_count": 159,
     "metadata": {},
     "output_type": "execute_result"
    }
   ],
   "source": [
    "len(stationary)"
   ]
  },
  {
   "cell_type": "code",
   "execution_count": 161,
   "id": "2908ee2b-fcec-45fb-b4d3-6717bfd9ae02",
   "metadata": {},
   "outputs": [
    {
     "data": {
      "text/plain": [
       "4"
      ]
     },
     "execution_count": 161,
     "metadata": {},
     "output_type": "execute_result"
    }
   ],
   "source": [
    "stationary.index(\"textbook\")\n"
   ]
  },
  {
   "cell_type": "code",
   "execution_count": 165,
   "id": "922ed976-f160-4cdc-85f4-afe4eb3a5977",
   "metadata": {},
   "outputs": [
    {
     "name": "stdout",
     "output_type": "stream",
     "text": [
      "negative\n"
     ]
    }
   ],
   "source": [
    "#elif\n",
    "num=-5\n",
    "if num>0:\n",
    "    print(\"positive\")\n",
    "elif num==0:\n",
    "    print(\"it is zero\")\n",
    "else:\n",
    "    print(\"negative\")"
   ]
  },
  {
   "cell_type": "code",
   "execution_count": 167,
   "id": "d3f653c8-dbd7-48e9-a778-7d06bdbae4ae",
   "metadata": {},
   "outputs": [
    {
     "name": "stdin",
     "output_type": "stream",
     "text": [
      "enter your name: spoo\n"
     ]
    }
   ],
   "source": [
    "name = input(\"enter your name:\")"
   ]
  },
  {
   "cell_type": "code",
   "execution_count": 169,
   "id": "f107993f-551a-4eb3-8c5d-251df51780b9",
   "metadata": {},
   "outputs": [
    {
     "data": {
      "text/plain": [
       "'spoo'"
      ]
     },
     "execution_count": 169,
     "metadata": {},
     "output_type": "execute_result"
    }
   ],
   "source": [
    "name"
   ]
  },
  {
   "cell_type": "code",
   "execution_count": 171,
   "id": "cd47ff65-c911-4c71-ad74-7d58fef25e4f",
   "metadata": {},
   "outputs": [
    {
     "name": "stdin",
     "output_type": "stream",
     "text": [
      "enter marks: 58\n"
     ]
    }
   ],
   "source": [
    "marks=input(\"enter marks:\")"
   ]
  },
  {
   "cell_type": "code",
   "execution_count": 177,
   "id": "71fe97c7-1413-4892-a227-7f04d3557f93",
   "metadata": {},
   "outputs": [
    {
     "ename": "TypeError",
     "evalue": "can only concatenate str (not \"int\") to str",
     "output_type": "error",
     "traceback": [
      "\u001b[1;31m---------------------------------------------------------------------------\u001b[0m",
      "\u001b[1;31mTypeError\u001b[0m                                 Traceback (most recent call last)",
      "Cell \u001b[1;32mIn[177], line 1\u001b[0m\n\u001b[1;32m----> 1\u001b[0m marks \u001b[38;5;241m+\u001b[39m \u001b[38;5;241m10\u001b[39m\n",
      "\u001b[1;31mTypeError\u001b[0m: can only concatenate str (not \"int\") to str"
     ]
    }
   ],
   "source": [
    "marks + 10   # 10 should be given in string because marks is consider as a string"
   ]
  },
  {
   "cell_type": "code",
   "execution_count": 179,
   "id": "25992e07-06ac-4982-bcef-18f6fcd95bd0",
   "metadata": {},
   "outputs": [
    {
     "name": "stdin",
     "output_type": "stream",
     "text": [
      "enter ur age: 25\n"
     ]
    }
   ],
   "source": [
    "age=int(input(\"enter ur age:\"))"
   ]
  },
  {
   "cell_type": "code",
   "execution_count": 181,
   "id": "7761ec7d-7535-477f-bb59-ab331de722df",
   "metadata": {},
   "outputs": [
    {
     "data": {
      "text/plain": [
       "30"
      ]
     },
     "execution_count": 181,
     "metadata": {},
     "output_type": "execute_result"
    }
   ],
   "source": [
    "age+5  # bcz both are in integer type"
   ]
  },
  {
   "cell_type": "code",
   "execution_count": 183,
   "id": "1a7a3aa1-075d-4d2c-bc6a-e2cacab5a955",
   "metadata": {},
   "outputs": [
    {
     "name": "stdin",
     "output_type": "stream",
     "text": [
      "Enter a number:  14\n"
     ]
    },
    {
     "name": "stdout",
     "output_type": "stream",
     "text": [
      "14\n",
      "You won\n"
     ]
    }
   ],
   "source": [
    "# accept a number from user, if it is divisible by 7 display \"You win\" else display \"Sorry, try again\"\n",
    "num = int(input(\"Enter a number: \"))\n",
    "print(num)\n",
    "if num % 7 == 0:\n",
    "  print(\"You won\")\n",
    "else:\n",
    "  print(\"Sorry, try again\")\n",
    "     "
   ]
  },
  {
   "cell_type": "code",
   "execution_count": 185,
   "id": "43cccc9e-5448-48b1-8e44-39850b1b5495",
   "metadata": {},
   "outputs": [
    {
     "name": "stdin",
     "output_type": "stream",
     "text": [
      "Enter your marks:  90\n"
     ]
    },
    {
     "name": "stdout",
     "output_type": "stream",
     "text": [
      "Distinction\n"
     ]
    }
   ],
   "source": [
    "# accept marks, if marks>=80 print \"Distinction\", if between 60-80 print \"First class\",\n",
    "# if between 40-60 print \"Pass\", if less than 40 print\"Fail\"\n",
    "marks = int(input(\"Enter your marks: \"))\n",
    "if marks >= 80:\n",
    "  print(\"Distinction\")\n",
    "elif marks >= 60:\n",
    "  print(\"First Class\")\n",
    "elif marks >= 40:\n",
    "  print(\"Pass\")\n",
    "else:\n",
    "  print(\"Fail\")"
   ]
  },
  {
   "cell_type": "code",
   "execution_count": 187,
   "id": "56c1262c-d3fb-495b-9873-7ee870160184",
   "metadata": {},
   "outputs": [
    {
     "name": "stdout",
     "output_type": "stream",
     "text": [
      "34 --> Fail\n",
      "55 --> Pass\n",
      "77 --> First Class\n",
      "95 --> Distinction\n",
      "20 --> Fail\n"
     ]
    }
   ],
   "source": [
    "mrklist = [34,55,77,95,20]\n",
    "for marks in mrklist:\n",
    "  if marks >= 80:\n",
    "    print(marks, \"--> Distinction\")\n",
    "  elif marks >= 60:\n",
    "    print(marks, \"--> First Class\")\n",
    "  elif marks >= 40:\n",
    "    print(marks, \"--> Pass\")\n",
    "  else:\n",
    "    print(marks, \"--> Fail\")"
   ]
  },
  {
   "cell_type": "code",
   "execution_count": 189,
   "id": "8d2b9573-f7b3-415d-bd7d-333992aa27fd",
   "metadata": {},
   "outputs": [
    {
     "name": "stdout",
     "output_type": "stream",
     "text": [
      "Hello\n",
      "Hello\n",
      "Hello\n",
      "Hello\n",
      "Hello\n"
     ]
    }
   ],
   "source": [
    "# While loop: Print Hello for 5 times\n",
    "cnt = 0\n",
    "while cnt < 5:\n",
    "  print(\"Hello\")\n",
    "  cnt = cnt + 1"
   ]
  },
  {
   "cell_type": "code",
   "execution_count": null,
   "id": "d063ec9e-7924-4f23-8d77-1800d2d81e7b",
   "metadata": {},
   "outputs": [],
   "source": [
    "\n",
    "#user defined function\n",
    "#def should be used"
   ]
  },
  {
   "cell_type": "code",
   "execution_count": 191,
   "id": "772a6e64-0d35-4aff-8f25-ac18c19a5445",
   "metadata": {},
   "outputs": [],
   "source": [
    "# Write a square function\n",
    "\n",
    "# Function Definition\n",
    "def square(x):\n",
    "  return x * x # or retrurn x**2"
   ]
  },
  {
   "cell_type": "code",
   "execution_count": 193,
   "id": "d26f4a1a-d8b7-449a-a455-a32369a60fc4",
   "metadata": {},
   "outputs": [
    {
     "data": {
      "text/plain": [
       "9"
      ]
     },
     "execution_count": 193,
     "metadata": {},
     "output_type": "execute_result"
    }
   ],
   "source": [
    "square(3)"
   ]
  },
  {
   "cell_type": "code",
   "execution_count": 195,
   "id": "24120423-61de-4c20-ad34-c50b0400a2ba",
   "metadata": {},
   "outputs": [
    {
     "data": {
      "text/plain": [
       "25"
      ]
     },
     "execution_count": 195,
     "metadata": {},
     "output_type": "execute_result"
    }
   ],
   "source": [
    "square(5)"
   ]
  },
  {
   "cell_type": "code",
   "execution_count": 197,
   "id": "d06da686-925e-4f80-b501-354f76be4d28",
   "metadata": {},
   "outputs": [],
   "source": [
    "\n",
    "# write a function calc_grade(marks)\n",
    "def calc_grade(marks):\n",
    "    if marks >= 80:\n",
    "      grade = \"Distinction\"\n",
    "    elif marks >= 60:\n",
    "      grade = \"First Class\"\n",
    "    elif marks >= 40:\n",
    "      grade = \"Pass\"\n",
    "    else:\n",
    "      grade = \"Fail\"\n",
    "    return grade # it should be aligned with if"
   ]
  },
  {
   "cell_type": "code",
   "execution_count": null,
   "id": "b52af783-acba-43f5-bfca-27ae178c8322",
   "metadata": {},
   "outputs": [],
   "source": []
  },
  {
   "cell_type": "code",
   "execution_count": null,
   "id": "1c6b2cce-4beb-4904-be84-2ade187edb37",
   "metadata": {},
   "outputs": [],
   "source": []
  },
  {
   "cell_type": "code",
   "execution_count": null,
   "id": "91416d75-ad5a-4a41-9924-89b33230275c",
   "metadata": {},
   "outputs": [],
   "source": []
  },
  {
   "cell_type": "code",
   "execution_count": null,
   "id": "5f01590a-68d3-4baa-8475-648110974e8c",
   "metadata": {},
   "outputs": [],
   "source": []
  },
  {
   "cell_type": "code",
   "execution_count": null,
   "id": "54feb01d-9f86-433f-9cb7-105ad7b68dfe",
   "metadata": {},
   "outputs": [],
   "source": []
  },
  {
   "cell_type": "code",
   "execution_count": null,
   "id": "a4ff5234-54e7-4cb1-abbf-87e306f8a3b3",
   "metadata": {},
   "outputs": [],
   "source": []
  },
  {
   "cell_type": "code",
   "execution_count": null,
   "id": "543faff2-76b6-4c73-822c-1695976a98d3",
   "metadata": {},
   "outputs": [],
   "source": []
  },
  {
   "cell_type": "code",
   "execution_count": null,
   "id": "fd539e16-c075-4b7a-b75b-175b03b78c5d",
   "metadata": {},
   "outputs": [],
   "source": []
  },
  {
   "cell_type": "code",
   "execution_count": null,
   "id": "7f332378-407a-4349-bb6c-8a58522bf4da",
   "metadata": {},
   "outputs": [],
   "source": []
  },
  {
   "cell_type": "code",
   "execution_count": null,
   "id": "136b875d-38bd-4776-8e67-48b6fd798e55",
   "metadata": {},
   "outputs": [],
   "source": []
  },
  {
   "cell_type": "code",
   "execution_count": null,
   "id": "f5d57e56-c151-4413-90c4-75f296bae68b",
   "metadata": {},
   "outputs": [],
   "source": []
  },
  {
   "cell_type": "code",
   "execution_count": null,
   "id": "ed518fb2-d32c-46e3-a54c-99ba728e93df",
   "metadata": {},
   "outputs": [],
   "source": []
  },
  {
   "cell_type": "code",
   "execution_count": null,
   "id": "f25ecf28-84de-45cf-987c-f8e471dd504e",
   "metadata": {},
   "outputs": [],
   "source": []
  },
  {
   "cell_type": "code",
   "execution_count": null,
   "id": "5ede16c1-6149-4d00-882e-d5d48991b92d",
   "metadata": {},
   "outputs": [],
   "source": []
  },
  {
   "cell_type": "code",
   "execution_count": null,
   "id": "25e22b0c-6205-440b-9bbf-1f89b9d8e886",
   "metadata": {},
   "outputs": [],
   "source": []
  },
  {
   "cell_type": "code",
   "execution_count": null,
   "id": "ed4ff038-255c-4244-969e-040636410846",
   "metadata": {},
   "outputs": [],
   "source": []
  },
  {
   "cell_type": "code",
   "execution_count": null,
   "id": "0ddaedca-b881-4b35-b79d-a445b8f68115",
   "metadata": {},
   "outputs": [],
   "source": []
  },
  {
   "cell_type": "code",
   "execution_count": null,
   "id": "a5e51953-bb03-4c65-8f2d-2bb3f2053b81",
   "metadata": {},
   "outputs": [],
   "source": []
  },
  {
   "cell_type": "code",
   "execution_count": null,
   "id": "f372be9b-8828-4992-8846-d8919de2c70b",
   "metadata": {},
   "outputs": [],
   "source": []
  },
  {
   "cell_type": "code",
   "execution_count": null,
   "id": "9a9c3d9a-a9da-47d3-8ea8-e7302e8b6df1",
   "metadata": {},
   "outputs": [],
   "source": []
  },
  {
   "cell_type": "code",
   "execution_count": null,
   "id": "b5fe81c2-6d14-4cfd-971c-10fc7b24c5d1",
   "metadata": {},
   "outputs": [],
   "source": []
  },
  {
   "cell_type": "code",
   "execution_count": null,
   "id": "4af5701e-7ac0-4cce-aabf-7680b325b433",
   "metadata": {},
   "outputs": [],
   "source": []
  },
  {
   "cell_type": "code",
   "execution_count": null,
   "id": "4ba3b19d-b4ad-4304-aec2-188d3a6987cc",
   "metadata": {},
   "outputs": [],
   "source": []
  },
  {
   "cell_type": "code",
   "execution_count": null,
   "id": "2299770e-6c4d-4e90-b915-6b1668ff701c",
   "metadata": {},
   "outputs": [],
   "source": []
  },
  {
   "cell_type": "code",
   "execution_count": null,
   "id": "d2bf8a2e-a5a8-4b48-8e21-525f2ef15373",
   "metadata": {},
   "outputs": [],
   "source": []
  },
  {
   "cell_type": "code",
   "execution_count": null,
   "id": "a4ebf25e-f61d-40ec-9276-a6af9c299699",
   "metadata": {},
   "outputs": [],
   "source": []
  },
  {
   "cell_type": "code",
   "execution_count": null,
   "id": "b82fae4d-4d60-4c8b-9b0b-5e155e42c4ec",
   "metadata": {},
   "outputs": [],
   "source": []
  },
  {
   "cell_type": "code",
   "execution_count": null,
   "id": "85b90e31-0ee2-4098-b799-8e5c23907858",
   "metadata": {},
   "outputs": [],
   "source": []
  },
  {
   "cell_type": "code",
   "execution_count": null,
   "id": "419492eb-d518-4be2-a392-8c31d7885163",
   "metadata": {},
   "outputs": [],
   "source": []
  },
  {
   "cell_type": "code",
   "execution_count": null,
   "id": "d54c3250-506e-4882-a3ec-553692244dfa",
   "metadata": {},
   "outputs": [],
   "source": []
  },
  {
   "cell_type": "code",
   "execution_count": null,
   "id": "3b5424c5-790b-4ae5-afa7-a464650ee1c1",
   "metadata": {},
   "outputs": [],
   "source": []
  },
  {
   "cell_type": "code",
   "execution_count": null,
   "id": "d49325cd-16ce-4970-89ef-59c9a38ccdd7",
   "metadata": {},
   "outputs": [],
   "source": []
  },
  {
   "cell_type": "code",
   "execution_count": null,
   "id": "7d16d17a-1518-4d1f-97c6-1f48fc5576cf",
   "metadata": {},
   "outputs": [],
   "source": []
  },
  {
   "cell_type": "code",
   "execution_count": null,
   "id": "f2665782-a81b-48c9-909c-55ab64981fbe",
   "metadata": {},
   "outputs": [],
   "source": []
  },
  {
   "cell_type": "code",
   "execution_count": null,
   "id": "33a3d5de-61f5-4563-b977-712b8060a3d1",
   "metadata": {},
   "outputs": [],
   "source": []
  },
  {
   "cell_type": "code",
   "execution_count": null,
   "id": "871733f7-78af-445a-9b5c-2ab262f06634",
   "metadata": {},
   "outputs": [],
   "source": []
  },
  {
   "cell_type": "code",
   "execution_count": null,
   "id": "00ed58a2-c17c-49b9-bed5-69511cfdb115",
   "metadata": {},
   "outputs": [],
   "source": []
  },
  {
   "cell_type": "code",
   "execution_count": null,
   "id": "feb5b94f-a37d-41e4-a971-a1aee394199a",
   "metadata": {},
   "outputs": [],
   "source": []
  },
  {
   "cell_type": "code",
   "execution_count": null,
   "id": "5acd4fde-1ade-47b2-b693-dbceada45f79",
   "metadata": {},
   "outputs": [],
   "source": []
  },
  {
   "cell_type": "code",
   "execution_count": null,
   "id": "c638d938-0ced-4e1e-a5fc-8501efced702",
   "metadata": {},
   "outputs": [],
   "source": []
  },
  {
   "cell_type": "code",
   "execution_count": null,
   "id": "6ccb9857-e622-4198-b523-c659082a8d59",
   "metadata": {},
   "outputs": [],
   "source": []
  },
  {
   "cell_type": "code",
   "execution_count": null,
   "id": "4c156112-8d56-4ffe-9600-3d7b4b2ccc30",
   "metadata": {},
   "outputs": [],
   "source": []
  },
  {
   "cell_type": "code",
   "execution_count": null,
   "id": "c66ffea6-5489-47fc-b075-ab76177eb1e7",
   "metadata": {},
   "outputs": [],
   "source": []
  },
  {
   "cell_type": "code",
   "execution_count": null,
   "id": "0f0f4b21-c21a-4bb3-a99e-1a754791adac",
   "metadata": {},
   "outputs": [],
   "source": []
  },
  {
   "cell_type": "code",
   "execution_count": null,
   "id": "5fbf6af1-1f0d-4d1f-87b7-71dfd56ee658",
   "metadata": {},
   "outputs": [],
   "source": []
  },
  {
   "cell_type": "code",
   "execution_count": null,
   "id": "5bb6033b-048f-4c89-8c11-58fbbe332255",
   "metadata": {},
   "outputs": [],
   "source": []
  },
  {
   "cell_type": "code",
   "execution_count": null,
   "id": "538ce25a-c53c-4412-a654-320a9c5b1b1e",
   "metadata": {},
   "outputs": [],
   "source": []
  },
  {
   "cell_type": "code",
   "execution_count": null,
   "id": "bcc3753a-33b9-4ee0-b32b-6a7bb0f347f0",
   "metadata": {},
   "outputs": [],
   "source": []
  },
  {
   "cell_type": "code",
   "execution_count": null,
   "id": "b2e7a884-1e74-4ff8-b707-a5eab4f3cd66",
   "metadata": {},
   "outputs": [],
   "source": []
  },
  {
   "cell_type": "code",
   "execution_count": null,
   "id": "18bfcf3a-126a-42a1-96d2-8f273596319c",
   "metadata": {},
   "outputs": [],
   "source": []
  },
  {
   "cell_type": "code",
   "execution_count": null,
   "id": "aa2befc0-d6b2-4be3-9c72-10275186b8c1",
   "metadata": {},
   "outputs": [],
   "source": []
  },
  {
   "cell_type": "code",
   "execution_count": null,
   "id": "5cbe495b-b79a-4c1b-bce3-6b7158b69e83",
   "metadata": {},
   "outputs": [],
   "source": []
  },
  {
   "cell_type": "code",
   "execution_count": null,
   "id": "2519f20e-e713-4547-970a-22f3c0aaa8ff",
   "metadata": {},
   "outputs": [],
   "source": []
  },
  {
   "cell_type": "code",
   "execution_count": null,
   "id": "dd983714-b20c-4871-82b3-5bd649d7b161",
   "metadata": {},
   "outputs": [],
   "source": []
  },
  {
   "cell_type": "code",
   "execution_count": null,
   "id": "ae837499-f5c0-46d7-bf7b-7d54a80a33fb",
   "metadata": {},
   "outputs": [],
   "source": []
  },
  {
   "cell_type": "code",
   "execution_count": null,
   "id": "4470ba49-6979-4a3e-9ca5-c8f81a7108e0",
   "metadata": {},
   "outputs": [],
   "source": []
  },
  {
   "cell_type": "code",
   "execution_count": null,
   "id": "798f2398-d3e5-40a8-adae-c10efe2e5fca",
   "metadata": {},
   "outputs": [],
   "source": []
  },
  {
   "cell_type": "code",
   "execution_count": null,
   "id": "a83e8b3f-f125-4af3-8361-8e6887218ec1",
   "metadata": {},
   "outputs": [],
   "source": []
  },
  {
   "cell_type": "code",
   "execution_count": null,
   "id": "67ca9b4f-79b2-45d8-9d0c-799b6a2e494b",
   "metadata": {},
   "outputs": [],
   "source": []
  }
 ],
 "metadata": {
  "kernelspec": {
   "display_name": "Python 3 (ipykernel)",
   "language": "python",
   "name": "python3"
  },
  "language_info": {
   "codemirror_mode": {
    "name": "ipython",
    "version": 3
   },
   "file_extension": ".py",
   "mimetype": "text/x-python",
   "name": "python",
   "nbconvert_exporter": "python",
   "pygments_lexer": "ipython3",
   "version": "3.12.4"
  }
 },
 "nbformat": 4,
 "nbformat_minor": 5
}
