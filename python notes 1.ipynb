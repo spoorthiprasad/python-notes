{
 "cells": [
  {
   "cell_type": "code",
   "execution_count": 3,
   "id": "8ac72a96-be89-42ea-9629-5bed6d7ae834",
   "metadata": {},
   "outputs": [
    {
     "data": {
      "text/plain": [
       "30"
      ]
     },
     "execution_count": 3,
     "metadata": {},
     "output_type": "execute_result"
    }
   ],
   "source": [
    "10+20"
   ]
  },
  {
   "cell_type": "code",
   "execution_count": 5,
   "id": "8b24c042-8b70-4467-ab6b-78a3d5a99cf4",
   "metadata": {},
   "outputs": [
    {
     "data": {
      "text/plain": [
       "'HELLO'"
      ]
     },
     "execution_count": 5,
     "metadata": {},
     "output_type": "execute_result"
    }
   ],
   "source": [
    "\"HELLO\""
   ]
  },
  {
   "cell_type": "code",
   "execution_count": 7,
   "id": "27cd02d9-cd7c-455f-b7c7-9b2649953728",
   "metadata": {},
   "outputs": [
    {
     "name": "stdout",
     "output_type": "stream",
     "text": [
      "welcome to exceller\n"
     ]
    }
   ],
   "source": [
    "print(\"welcome to exceller\")"
   ]
  },
  {
   "cell_type": "code",
   "execution_count": 9,
   "id": "0976ee25-ec59-4809-9320-c5a41a10fbc8",
   "metadata": {},
   "outputs": [
    {
     "data": {
      "text/plain": [
       "16.0"
      ]
     },
     "execution_count": 9,
     "metadata": {},
     "output_type": "execute_result"
    }
   ],
   "source": [
    "120/12*2-4"
   ]
  },
  {
   "cell_type": "code",
   "execution_count": 11,
   "id": "c41aaeef-3bcf-4e39-8212-f5bb0ff64207",
   "metadata": {},
   "outputs": [
    {
     "data": {
      "text/plain": [
       "30"
      ]
     },
     "execution_count": 11,
     "metadata": {},
     "output_type": "execute_result"
    }
   ],
   "source": [
    "(5-2)*10"
   ]
  },
  {
   "cell_type": "code",
   "execution_count": 13,
   "id": "f910ffab-e1e1-4639-8100-a985cb8a3d80",
   "metadata": {},
   "outputs": [
    {
     "data": {
      "text/plain": [
       "8.5"
      ]
     },
     "execution_count": 13,
     "metadata": {},
     "output_type": "execute_result"
    }
   ],
   "source": [
    "17/2"
   ]
  },
  {
   "cell_type": "code",
   "execution_count": 17,
   "id": "b0a42350-4734-4ecb-9939-6976fba90f0f",
   "metadata": {},
   "outputs": [
    {
     "data": {
      "text/plain": [
       "6"
      ]
     },
     "execution_count": 17,
     "metadata": {},
     "output_type": "execute_result"
    }
   ],
   "source": [
    "13//2"
   ]
  },
  {
   "cell_type": "code",
   "execution_count": 19,
   "id": "2af3b75a-c118-4c80-a47b-db0b4150128c",
   "metadata": {},
   "outputs": [
    {
     "data": {
      "text/plain": [
       "80"
      ]
     },
     "execution_count": 19,
     "metadata": {},
     "output_type": "execute_result"
    }
   ],
   "source": [
    "marks=80\n",
    "marks"
   ]
  },
  {
   "cell_type": "code",
   "execution_count": 21,
   "id": "12daf406-5ae9-4318-b39f-3d35ad1620bc",
   "metadata": {},
   "outputs": [
    {
     "data": {
      "text/plain": [
       "int"
      ]
     },
     "execution_count": 21,
     "metadata": {},
     "output_type": "execute_result"
    }
   ],
   "source": [
    "type(marks)"
   ]
  },
  {
   "cell_type": "code",
   "execution_count": 25,
   "id": "8d33c3f3-4b5a-4679-a7b4-d212c853c646",
   "metadata": {},
   "outputs": [
    {
     "data": {
      "text/plain": [
       "8"
      ]
     },
     "execution_count": 25,
     "metadata": {},
     "output_type": "execute_result"
    }
   ],
   "source": [
    "2**3    #2 power 3"
   ]
  },
  {
   "cell_type": "code",
   "execution_count": 27,
   "id": "83e8834a-f033-4df6-8de6-e084913aadcb",
   "metadata": {},
   "outputs": [],
   "source": [
    "x = True\n",
    "y = False"
   ]
  },
  {
   "cell_type": "code",
   "execution_count": 29,
   "id": "9683efdc-2a78-44d1-a41d-04cb0de1f6c9",
   "metadata": {},
   "outputs": [
    {
     "data": {
      "text/plain": [
       "True"
      ]
     },
     "execution_count": 29,
     "metadata": {},
     "output_type": "execute_result"
    }
   ],
   "source": [
    "x or y"
   ]
  },
  {
   "cell_type": "code",
   "execution_count": 31,
   "id": "46f7739e-7a5c-47cd-aab8-1a9bfac45b6f",
   "metadata": {},
   "outputs": [
    {
     "data": {
      "text/plain": [
       "False"
      ]
     },
     "execution_count": 31,
     "metadata": {},
     "output_type": "execute_result"
    }
   ],
   "source": [
    "x and y"
   ]
  },
  {
   "cell_type": "code",
   "execution_count": 33,
   "id": "a9acf58a-8d7b-45b9-a5bb-60662c7fbab6",
   "metadata": {},
   "outputs": [
    {
     "data": {
      "text/plain": [
       "bool"
      ]
     },
     "execution_count": 33,
     "metadata": {},
     "output_type": "execute_result"
    }
   ],
   "source": [
    "type(x)"
   ]
  },
  {
   "cell_type": "code",
   "execution_count": 35,
   "id": "d63b9b0f-e225-4b1d-b824-4171f927e23a",
   "metadata": {},
   "outputs": [
    {
     "data": {
      "text/plain": [
       "float"
      ]
     },
     "execution_count": 35,
     "metadata": {},
     "output_type": "execute_result"
    }
   ],
   "source": [
    "price=50.5\n",
    "price\n",
    "type(price)    # only this line will print"
   ]
  },
  {
   "cell_type": "code",
   "execution_count": 39,
   "id": "8e62a3b9-db59-4aa5-9a73-6207aa946eab",
   "metadata": {},
   "outputs": [
    {
     "name": "stdout",
     "output_type": "stream",
     "text": [
      "50.5\n"
     ]
    },
    {
     "data": {
      "text/plain": [
       "float"
      ]
     },
     "execution_count": 39,
     "metadata": {},
     "output_type": "execute_result"
    }
   ],
   "source": [
    "print(price)   #to print both intermediate should be in print statement\n",
    "type(price)"
   ]
  },
  {
   "cell_type": "code",
   "execution_count": 41,
   "id": "b2e9bd4f-9ed2-42c0-91bb-3ac1dec98d7f",
   "metadata": {},
   "outputs": [
    {
     "data": {
      "text/plain": [
       "'spp'"
      ]
     },
     "execution_count": 41,
     "metadata": {},
     "output_type": "execute_result"
    }
   ],
   "source": [
    "name=\"spp\"\n",
    "name"
   ]
  },
  {
   "cell_type": "code",
   "execution_count": 43,
   "id": "e76e5cf6-64e1-4e21-9f9c-77417fd105d1",
   "metadata": {},
   "outputs": [
    {
     "data": {
      "text/plain": [
       "str"
      ]
     },
     "execution_count": 43,
     "metadata": {},
     "output_type": "execute_result"
    }
   ],
   "source": [
    "type(name)"
   ]
  },
  {
   "cell_type": "code",
   "execution_count": 45,
   "id": "b63f8be1-f1e9-4c8f-aef3-4bdee3f060b3",
   "metadata": {},
   "outputs": [
    {
     "data": {
      "text/plain": [
       "['__add__',\n",
       " '__class__',\n",
       " '__contains__',\n",
       " '__delattr__',\n",
       " '__dir__',\n",
       " '__doc__',\n",
       " '__eq__',\n",
       " '__format__',\n",
       " '__ge__',\n",
       " '__getattribute__',\n",
       " '__getitem__',\n",
       " '__getnewargs__',\n",
       " '__getstate__',\n",
       " '__gt__',\n",
       " '__hash__',\n",
       " '__init__',\n",
       " '__init_subclass__',\n",
       " '__iter__',\n",
       " '__le__',\n",
       " '__len__',\n",
       " '__lt__',\n",
       " '__mod__',\n",
       " '__mul__',\n",
       " '__ne__',\n",
       " '__new__',\n",
       " '__reduce__',\n",
       " '__reduce_ex__',\n",
       " '__repr__',\n",
       " '__rmod__',\n",
       " '__rmul__',\n",
       " '__setattr__',\n",
       " '__sizeof__',\n",
       " '__str__',\n",
       " '__subclasshook__',\n",
       " 'capitalize',\n",
       " 'casefold',\n",
       " 'center',\n",
       " 'count',\n",
       " 'encode',\n",
       " 'endswith',\n",
       " 'expandtabs',\n",
       " 'find',\n",
       " 'format',\n",
       " 'format_map',\n",
       " 'index',\n",
       " 'isalnum',\n",
       " 'isalpha',\n",
       " 'isascii',\n",
       " 'isdecimal',\n",
       " 'isdigit',\n",
       " 'isidentifier',\n",
       " 'islower',\n",
       " 'isnumeric',\n",
       " 'isprintable',\n",
       " 'isspace',\n",
       " 'istitle',\n",
       " 'isupper',\n",
       " 'join',\n",
       " 'ljust',\n",
       " 'lower',\n",
       " 'lstrip',\n",
       " 'maketrans',\n",
       " 'partition',\n",
       " 'removeprefix',\n",
       " 'removesuffix',\n",
       " 'replace',\n",
       " 'rfind',\n",
       " 'rindex',\n",
       " 'rjust',\n",
       " 'rpartition',\n",
       " 'rsplit',\n",
       " 'rstrip',\n",
       " 'split',\n",
       " 'splitlines',\n",
       " 'startswith',\n",
       " 'strip',\n",
       " 'swapcase',\n",
       " 'title',\n",
       " 'translate',\n",
       " 'upper',\n",
       " 'zfill']"
      ]
     },
     "execution_count": 45,
     "metadata": {},
     "output_type": "execute_result"
    }
   ],
   "source": [
    "dir(str)   #all methods that can be applied on a string\n",
    "#dunder(bcz it has under score in starting and ending)/magic method(it was used by python internally)\n",
    "#elements with out under score can be consdider as a string constant"
   ]
  },
  {
   "cell_type": "code",
   "execution_count": 17,
   "id": "69e80f71-36c1-4aac-8758-c6fefe67782e",
   "metadata": {},
   "outputs": [
    {
     "data": {
      "text/plain": [
       "'Welcome ta data science.'"
      ]
     },
     "execution_count": 17,
     "metadata": {},
     "output_type": "execute_result"
    }
   ],
   "source": [
    "str1=\"welcome ta data science.\"\n",
    "str1.capitalize()   #only first alphabet became capital"
   ]
  },
  {
   "cell_type": "code",
   "execution_count": 19,
   "id": "6a0c53a0-eeab-493f-b0d6-7b47d80bf7a5",
   "metadata": {},
   "outputs": [
    {
     "data": {
      "text/plain": [
       "'welcome ta data science.'"
      ]
     },
     "execution_count": 19,
     "metadata": {},
     "output_type": "execute_result"
    }
   ],
   "source": [
    "str1"
   ]
  },
  {
   "cell_type": "code",
   "execution_count": 21,
   "id": "14072022-ec23-4c9e-81c3-7329084f3c0e",
   "metadata": {},
   "outputs": [
    {
     "data": {
      "text/plain": [
       "'WELCOME TA DATA SCIENCE.'"
      ]
     },
     "execution_count": 21,
     "metadata": {},
     "output_type": "execute_result"
    }
   ],
   "source": [
    "str1.upper()"
   ]
  },
  {
   "cell_type": "code",
   "execution_count": 25,
   "id": "25d55ecf-fca6-40eb-9393-86987e08012d",
   "metadata": {},
   "outputs": [
    {
     "data": {
      "text/plain": [
       "'welcome ta data science.'"
      ]
     },
     "execution_count": 25,
     "metadata": {},
     "output_type": "execute_result"
    }
   ],
   "source": [
    "str1.lower()"
   ]
  },
  {
   "cell_type": "code",
   "execution_count": 29,
   "id": "3107d672-08e3-4094-9219-605b0031c5d2",
   "metadata": {},
   "outputs": [
    {
     "data": {
      "text/plain": [
       "'Welcome Ta Data Science.'"
      ]
     },
     "execution_count": 29,
     "metadata": {},
     "output_type": "execute_result"
    }
   ],
   "source": [
    "str1.title()"
   ]
  },
  {
   "cell_type": "code",
   "execution_count": 31,
   "id": "b909b738-dc28-4457-adfe-ca7b5017dcdd",
   "metadata": {},
   "outputs": [
    {
     "name": "stdout",
     "output_type": "stream",
     "text": [
      "BIRYAANI SNEHA\n"
     ]
    }
   ],
   "source": [
    "food=\"biryaani\"\n",
    "name=\"sneha\"\n",
    "print(food.swapcase(),name.swapcase())  # convert upper case to lower case and vice versa\n"
   ]
  },
  {
   "cell_type": "code",
   "execution_count": 33,
   "id": "d2d59117-631b-4b83-af51-349b852d6535",
   "metadata": {},
   "outputs": [
    {
     "data": {
      "text/plain": [
       "'biryaani'"
      ]
     },
     "execution_count": 33,
     "metadata": {},
     "output_type": "execute_result"
    }
   ],
   "source": [
    "s=\"BIRYAANI\"\n",
    "s.swapcase()  #convert uppercase to lowercase"
   ]
  },
  {
   "cell_type": "code",
   "execution_count": 35,
   "id": "700e8735-2047-40d3-afa6-5cd601314f77",
   "metadata": {},
   "outputs": [
    {
     "data": {
      "text/plain": [
       "['My', 'name', 'is', 'snehal']"
      ]
     },
     "execution_count": 35,
     "metadata": {},
     "output_type": "execute_result"
    }
   ],
   "source": [
    "s1=\"My name is snehal\"\n",
    "s1.split()  # sentence will be splited into words"
   ]
  },
  {
   "cell_type": "code",
   "execution_count": 37,
   "id": "b80dca63-8dae-4e87-ba54-3b01798c8cc1",
   "metadata": {},
   "outputs": [
    {
     "data": {
      "text/plain": [
       "['mumbai-pune-mumbai']"
      ]
     },
     "execution_count": 37,
     "metadata": {},
     "output_type": "execute_result"
    }
   ],
   "source": [
    "s2=\"mumbai-pune-mumbai\"\n",
    "s2.split()    # beacause it did not encounter any spaace so it consider entire sentence as a word"
   ]
  },
  {
   "cell_type": "code",
   "execution_count": 39,
   "id": "5e26fb53-3bc4-4d94-94e2-d012061c6af5",
   "metadata": {},
   "outputs": [
    {
     "data": {
      "text/plain": [
       "['mumbai', 'pune', 'mumbai']"
      ]
     },
     "execution_count": 39,
     "metadata": {},
     "output_type": "execute_result"
    }
   ],
   "source": [
    "s2=\"mumbai-pune-mumbai\"\n",
    "s2.split(\"-\")    # with argument"
   ]
  },
  {
   "cell_type": "code",
   "execution_count": 43,
   "id": "2b7bb3b8-f648-49d0-82b4-ef902dd92da0",
   "metadata": {},
   "outputs": [
    {
     "data": {
      "text/plain": [
       "['SPOO', 'GMAIL.COM']"
      ]
     },
     "execution_count": 43,
     "metadata": {},
     "output_type": "execute_result"
    }
   ],
   "source": [
    "mail=\"SPOO@GMAIL.COM\"\n",
    "mail.split(\"@\")"
   ]
  },
  {
   "cell_type": "code",
   "execution_count": 45,
   "id": "5d939278-7630-48e0-874a-ace2b4111fb2",
   "metadata": {},
   "outputs": [
    {
     "data": {
      "text/plain": [
       "'My name is spoo'"
      ]
     },
     "execution_count": 45,
     "metadata": {},
     "output_type": "execute_result"
    }
   ],
   "source": [
    "s1.replace(\"snehal\",\"spoo\")"
   ]
  },
  {
   "cell_type": "code",
   "execution_count": 47,
   "id": "96f8ae4e-b3af-42c5-ba77-40b1f436bcac",
   "metadata": {},
   "outputs": [
    {
     "data": {
      "text/plain": [
       "'My name is snehal'"
      ]
     },
     "execution_count": 47,
     "metadata": {},
     "output_type": "execute_result"
    }
   ],
   "source": [
    "s1"
   ]
  },
  {
   "cell_type": "code",
   "execution_count": 51,
   "id": "4d7b2067-02b3-4192-a9c2-9077870ad410",
   "metadata": {},
   "outputs": [
    {
     "data": {
      "text/plain": [
       "1"
      ]
     },
     "execution_count": 51,
     "metadata": {},
     "output_type": "execute_result"
    }
   ],
   "source": [
    "city=\"satara\"\n",
    "city.count(\"s\")"
   ]
  },
  {
   "cell_type": "code",
   "execution_count": 53,
   "id": "69cfa567-6431-48cc-be00-5345894453e5",
   "metadata": {},
   "outputs": [
    {
     "data": {
      "text/plain": [
       "1"
      ]
     },
     "execution_count": 53,
     "metadata": {},
     "output_type": "execute_result"
    }
   ],
   "source": [
    "\"satara\".count(\"s\")"
   ]
  },
  {
   "cell_type": "code",
   "execution_count": 55,
   "id": "f0a9b5a3-b042-44f6-8afc-14a85b6b882a",
   "metadata": {},
   "outputs": [
    {
     "data": {
      "text/plain": [
       "35"
      ]
     },
     "execution_count": 55,
     "metadata": {},
     "output_type": "execute_result"
    }
   ],
   "source": [
    "n1=5\n",
    "n1*7"
   ]
  },
  {
   "cell_type": "code",
   "execution_count": 57,
   "id": "380aaf33-ab3a-4ee5-939f-28ad8307c1c7",
   "metadata": {},
   "outputs": [
    {
     "data": {
      "text/plain": [
       "'rajrajrajraj'"
      ]
     },
     "execution_count": 57,
     "metadata": {},
     "output_type": "execute_result"
    }
   ],
   "source": [
    "name =\"raj\"\n",
    "name*4"
   ]
  },
  {
   "cell_type": "code",
   "execution_count": 59,
   "id": "29022b72-f0e3-4ec6-b4d2-fcc61bcbde23",
   "metadata": {},
   "outputs": [
    {
     "data": {
      "text/plain": [
       "'rajrajrajraj'"
      ]
     },
     "execution_count": 59,
     "metadata": {},
     "output_type": "execute_result"
    }
   ],
   "source": [
    "\"raj\"*4"
   ]
  },
  {
   "cell_type": "code",
   "execution_count": 61,
   "id": "65e21f27-1f09-4c0f-a89e-050757bf74b3",
   "metadata": {},
   "outputs": [
    {
     "data": {
      "text/plain": [
       "'spoorthiprasad'"
      ]
     },
     "execution_count": 61,
     "metadata": {},
     "output_type": "execute_result"
    }
   ],
   "source": [
    "name=\"spoorthi\"\n",
    "surename=\"prasad\"\n",
    "name+surename"
   ]
  },
  {
   "cell_type": "code",
   "execution_count": 63,
   "id": "d16c161c-529c-45c2-9b68-0807681729eb",
   "metadata": {},
   "outputs": [
    {
     "data": {
      "text/plain": [
       "'spoorthi prasad'"
      ]
     },
     "execution_count": 63,
     "metadata": {},
     "output_type": "execute_result"
    }
   ],
   "source": [
    "name + \" \" +surename"
   ]
  },
  {
   "cell_type": "code",
   "execution_count": 73,
   "id": "f42c3618-1d0f-42df-a1f0-1b584730171b",
   "metadata": {},
   "outputs": [
    {
     "name": "stdout",
     "output_type": "stream",
     "text": [
      "a is greater \n",
      "in true block\n",
      "8900\n"
     ]
    }
   ],
   "source": [
    "#conditional statement\n",
    "a=5200\n",
    "b=3700\n",
    "if(a>b):\n",
    "    print(\"a is greater \")# to display values in output instead of a (a, \"is bigger\")\n",
    "    print(\"in true block\")\n",
    "    c=a+b\n",
    "    print(c)\n",
    "else:\n",
    "    print(\"b is greater\")\n",
    "    print(\"in true block\")\n",
    "    c=a+b\n",
    "    print(c)\n"
   ]
  },
  {
   "cell_type": "code",
   "execution_count": null,
   "id": "1c165e60-bed4-4d66-ac2e-9069b1a1f656",
   "metadata": {},
   "outputs": [],
   "source": [
    "salary=2500\n",
    "if(salary>2000)"
   ]
  },
  {
   "cell_type": "code",
   "execution_count": null,
   "id": "9afffa6a-99a3-437a-984f-7fc4a2bc56d2",
   "metadata": {},
   "outputs": [],
   "source": []
  },
  {
   "cell_type": "code",
   "execution_count": null,
   "id": "a00017ac-f6c4-408c-9323-9fa5f945edce",
   "metadata": {},
   "outputs": [],
   "source": []
  },
  {
   "cell_type": "code",
   "execution_count": null,
   "id": "0a7a15f1-f215-4b40-89db-43f1c5f30161",
   "metadata": {},
   "outputs": [],
   "source": []
  },
  {
   "cell_type": "code",
   "execution_count": null,
   "id": "0b095c4c-dd42-4c14-8d16-fd33fcf9b64d",
   "metadata": {},
   "outputs": [],
   "source": []
  },
  {
   "cell_type": "code",
   "execution_count": null,
   "id": "9036b23b-10e9-4cc1-be3d-11f13184a059",
   "metadata": {},
   "outputs": [],
   "source": []
  },
  {
   "cell_type": "code",
   "execution_count": null,
   "id": "f3474e49-c26c-41fc-b8fb-94a238986262",
   "metadata": {},
   "outputs": [],
   "source": []
  },
  {
   "cell_type": "code",
   "execution_count": null,
   "id": "db6b5357-ae3f-4e20-ac97-0b6c4e427eee",
   "metadata": {},
   "outputs": [],
   "source": []
  },
  {
   "cell_type": "code",
   "execution_count": null,
   "id": "96f80343-0cf0-45c0-83c6-20f0cbe74dae",
   "metadata": {},
   "outputs": [],
   "source": []
  },
  {
   "cell_type": "code",
   "execution_count": null,
   "id": "b20b307d-d1f4-478c-bdef-efa0a4d4222b",
   "metadata": {},
   "outputs": [],
   "source": []
  },
  {
   "cell_type": "code",
   "execution_count": null,
   "id": "d960a275-6834-415a-94ef-3cbac1d63b23",
   "metadata": {},
   "outputs": [],
   "source": []
  },
  {
   "cell_type": "code",
   "execution_count": null,
   "id": "226a3ba3-3cde-440a-a3b0-00e37cbcbec4",
   "metadata": {},
   "outputs": [],
   "source": []
  },
  {
   "cell_type": "code",
   "execution_count": null,
   "id": "f97ac9e1-03d8-4e7b-a10e-d02946cc77c0",
   "metadata": {},
   "outputs": [],
   "source": []
  },
  {
   "cell_type": "code",
   "execution_count": null,
   "id": "8edde41d-181e-4ed8-b382-9729a6d6cff4",
   "metadata": {},
   "outputs": [],
   "source": []
  },
  {
   "cell_type": "code",
   "execution_count": null,
   "id": "852b9fd0-dfe3-4912-b350-961f0341ea3b",
   "metadata": {},
   "outputs": [],
   "source": []
  },
  {
   "cell_type": "code",
   "execution_count": null,
   "id": "e948ac02-a0fb-46a9-bb1a-bbaa87bd01a7",
   "metadata": {},
   "outputs": [],
   "source": []
  },
  {
   "cell_type": "code",
   "execution_count": null,
   "id": "b0e6e066-d885-42b3-b45e-c3c2eaa8409d",
   "metadata": {},
   "outputs": [],
   "source": []
  },
  {
   "cell_type": "code",
   "execution_count": null,
   "id": "a3e9787b-07ca-41b1-aea6-f4ab198a2a2e",
   "metadata": {},
   "outputs": [],
   "source": []
  },
  {
   "cell_type": "code",
   "execution_count": null,
   "id": "aa5f730e-3945-4cf2-a0a8-120fb8bb7a38",
   "metadata": {},
   "outputs": [],
   "source": []
  },
  {
   "cell_type": "code",
   "execution_count": null,
   "id": "a1b2c039-352b-4d28-9a28-b5710904a0e9",
   "metadata": {},
   "outputs": [],
   "source": []
  },
  {
   "cell_type": "code",
   "execution_count": null,
   "id": "b18a7b39-b9b3-4db2-a1da-24696956650b",
   "metadata": {},
   "outputs": [],
   "source": []
  },
  {
   "cell_type": "code",
   "execution_count": null,
   "id": "7e4abbdd-db7d-4312-8013-90fa98c04b11",
   "metadata": {},
   "outputs": [],
   "source": []
  },
  {
   "cell_type": "code",
   "execution_count": null,
   "id": "5d9a2459-d285-49ad-9453-def7b48e8ff0",
   "metadata": {},
   "outputs": [],
   "source": []
  },
  {
   "cell_type": "code",
   "execution_count": null,
   "id": "a8c68b63-1e24-401e-97e0-cf95e9a18aa2",
   "metadata": {},
   "outputs": [],
   "source": []
  },
  {
   "cell_type": "code",
   "execution_count": null,
   "id": "303cce4a-4f64-48b2-bae0-14f2edde7776",
   "metadata": {},
   "outputs": [],
   "source": []
  },
  {
   "cell_type": "code",
   "execution_count": null,
   "id": "8f0d962f-ded2-4e9c-83ca-78f1f48037f4",
   "metadata": {},
   "outputs": [],
   "source": []
  },
  {
   "cell_type": "code",
   "execution_count": null,
   "id": "7cf949c8-22e6-4be4-bb0e-31be45c44801",
   "metadata": {},
   "outputs": [],
   "source": []
  },
  {
   "cell_type": "code",
   "execution_count": null,
   "id": "691bd83b-c83e-46e7-967c-1d6bb57e48b7",
   "metadata": {},
   "outputs": [],
   "source": []
  },
  {
   "cell_type": "code",
   "execution_count": null,
   "id": "b3639fae-871b-4fbd-960a-2982f4c94d10",
   "metadata": {},
   "outputs": [],
   "source": []
  },
  {
   "cell_type": "code",
   "execution_count": null,
   "id": "98aefa3e-d8b6-441c-b8e4-3ce22411b0f9",
   "metadata": {},
   "outputs": [],
   "source": []
  }
 ],
 "metadata": {
  "kernelspec": {
   "display_name": "Python 3 (ipykernel)",
   "language": "python",
   "name": "python3"
  },
  "language_info": {
   "codemirror_mode": {
    "name": "ipython",
    "version": 3
   },
   "file_extension": ".py",
   "mimetype": "text/x-python",
   "name": "python",
   "nbconvert_exporter": "python",
   "pygments_lexer": "ipython3",
   "version": "3.12.4"
  }
 },
 "nbformat": 4,
 "nbformat_minor": 5
}
