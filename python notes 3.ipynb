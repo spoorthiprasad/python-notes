{
 "cells": [
  {
   "cell_type": "code",
   "execution_count": 111,
   "id": "2f81a183-95de-4fcb-aa03-c3b521268d69",
   "metadata": {},
   "outputs": [
    {
     "data": {
      "text/plain": [
       "['mango', 'apple', 'banana', 'pineapple', 'custard apple', 'strawberry']"
      ]
     },
     "execution_count": 111,
     "metadata": {},
     "output_type": "execute_result"
    }
   ],
   "source": [
    "list3= [\"mango\",\"apple\",\"banana\",\"pineapple\",\"custard apple\",\"strawberry\"]\n",
    "list3"
   ]
  },
  {
   "cell_type": "code",
   "execution_count": null,
   "id": "87688698-3a9e-4471-8866-7a41861721de",
   "metadata": {},
   "outputs": [],
   "source": []
  },
  {
   "cell_type": "code",
   "execution_count": null,
   "id": "e479240a-67d4-411b-81d0-a9bf89e32264",
   "metadata": {},
   "outputs": [],
   "source": []
  },
  {
   "cell_type": "code",
   "execution_count": 11,
   "id": "20c7ab46-0f38-4d92-9872-7416f443e9d5",
   "metadata": {},
   "outputs": [
    {
     "name": "stdout",
     "output_type": "stream",
     "text": [
      "MANGO\n",
      "APPLE\n",
      "BANANA\n",
      "PINEAPPLE\n",
      "CUSTARD APPLE\n",
      "STRAWBERRY\n"
     ]
    }
   ],
   "source": [
    "#display friuts all in uppercase\n",
    "for fruit in list3:\n",
    "    print(fruit.upper())\n",
    "    "
   ]
  },
  {
   "cell_type": "code",
   "execution_count": 13,
   "id": "4b6fb179-9ce0-4ae5-a754-40e18ba1e5ac",
   "metadata": {},
   "outputs": [
    {
     "data": {
      "text/plain": [
       "['mango', 'apple', 'banana', 'pineapple', 'custard apple', 'strawberry']"
      ]
     },
     "execution_count": 13,
     "metadata": {},
     "output_type": "execute_result"
    }
   ],
   "source": [
    "list3\n"
   ]
  },
  {
   "cell_type": "code",
   "execution_count": 17,
   "id": "a0cce67d-3ed4-416c-8c46-639909f5e305",
   "metadata": {},
   "outputs": [
    {
     "data": {
      "text/plain": [
       "'custard apple'"
      ]
     },
     "execution_count": 17,
     "metadata": {},
     "output_type": "execute_result"
    }
   ],
   "source": [
    "list3[4]"
   ]
  },
  {
   "cell_type": "code",
   "execution_count": 19,
   "id": "59865fa3-581d-4920-ae09-f19e757fb9dc",
   "metadata": {},
   "outputs": [
    {
     "data": {
      "text/plain": [
       "1"
      ]
     },
     "execution_count": 19,
     "metadata": {},
     "output_type": "execute_result"
    }
   ],
   "source": [
    "list3.count(\"banana\")"
   ]
  },
  {
   "cell_type": "code",
   "execution_count": 21,
   "id": "eb36a644-2207-4cb6-9cc4-247f705adb9d",
   "metadata": {},
   "outputs": [
    {
     "data": {
      "text/plain": [
       "['mango', 'apple', 'banana', 'pineapple']"
      ]
     },
     "execution_count": 21,
     "metadata": {},
     "output_type": "execute_result"
    }
   ],
   "source": [
    "#slicing\n",
    "list3[0:4]"
   ]
  },
  {
   "cell_type": "code",
   "execution_count": 25,
   "id": "829adad6-355b-461c-a947-fcef88a949b0",
   "metadata": {},
   "outputs": [
    {
     "data": {
      "text/plain": [
       "['mango', 'apple', 'banana', 'pineapple']"
      ]
     },
     "execution_count": 25,
     "metadata": {},
     "output_type": "execute_result"
    }
   ],
   "source": [
    "list3[0:4]"
   ]
  },
  {
   "cell_type": "code",
   "execution_count": 27,
   "id": "12928631-83c9-426f-ba98-ab952ae899d0",
   "metadata": {},
   "outputs": [
    {
     "data": {
      "text/plain": [
       "['banana', 'apple', 'mango']"
      ]
     },
     "execution_count": 27,
     "metadata": {},
     "output_type": "execute_result"
    }
   ],
   "source": [
    "list3[-4::-1]  #negative index start at end from -1,:: means no end limit,stepsixe will be -1"
   ]
  },
  {
   "cell_type": "code",
   "execution_count": 29,
   "id": "9866efa2-edb5-49a2-ba4a-bbed7bdaadb7",
   "metadata": {},
   "outputs": [
    {
     "data": {
      "text/plain": [
       "'strawberry'"
      ]
     },
     "execution_count": 29,
     "metadata": {},
     "output_type": "execute_result"
    }
   ],
   "source": [
    "list3[-1]"
   ]
  },
  {
   "cell_type": "code",
   "execution_count": 65,
   "id": "406ce138-8ce6-4a27-8341-942b7531da62",
   "metadata": {},
   "outputs": [
    {
     "name": "stdout",
     "output_type": "stream",
     "text": [
      "['mango', 'apple', 'banana', 'pineapple', 'custard apple', 'strawberry', 'mulberry', 'mulberry', 'mulberry']\n"
     ]
    },
    {
     "data": {
      "text/plain": [
       "['mango', 'banana', 'custard apple', 'mulberry', 'mulberry']"
      ]
     },
     "execution_count": 65,
     "metadata": {},
     "output_type": "execute_result"
    }
   ],
   "source": [
    "print(list3)\n",
    "list3[::2]   #start from 0 ,2,4"
   ]
  },
  {
   "cell_type": "code",
   "execution_count": 43,
   "id": "bc4dd2c4-09b3-4698-97a0-f7288892de41",
   "metadata": {},
   "outputs": [
    {
     "name": "stdout",
     "output_type": "stream",
     "text": [
      "[1, 2, 3, 4, 5, 6, 7, 8, 9, 10, 11, 12, 13, 14, 15, 16, 17, 18, 19, 20, 21, 22, 23, 24, 25, 26, 27, 28, 29, 30]\n"
     ]
    }
   ],
   "source": [
    "n1=list(range(1,31))\n",
    "print(n1)"
   ]
  },
  {
   "cell_type": "code",
   "execution_count": 45,
   "id": "97aa5982-7586-4bfe-b39e-191e4556327a",
   "metadata": {},
   "outputs": [
    {
     "data": {
      "text/plain": [
       "[1, 5, 9, 13, 17, 21, 25, 29]"
      ]
     },
     "execution_count": 45,
     "metadata": {},
     "output_type": "execute_result"
    }
   ],
   "source": [
    "n1[::4]"
   ]
  },
  {
   "cell_type": "code",
   "execution_count": 47,
   "id": "24fd60ad-197b-4ac0-98c6-a1b5d7ffc53a",
   "metadata": {},
   "outputs": [
    {
     "name": "stdout",
     "output_type": "stream",
     "text": [
      "['mango', 'apple', 'banana', 'pineapple', 'custard apple', 'strawberry']\n"
     ]
    }
   ],
   "source": [
    "print(list3)"
   ]
  },
  {
   "cell_type": "code",
   "execution_count": 49,
   "id": "efb349c1-32af-45cc-b61a-4211a86da5d6",
   "metadata": {},
   "outputs": [
    {
     "data": {
      "text/plain": [
       "['strawberry', 'custard apple', 'pineapple', 'banana', 'apple', 'mango']"
      ]
     },
     "execution_count": 49,
     "metadata": {},
     "output_type": "execute_result"
    }
   ],
   "source": [
    "list3[::-1]"
   ]
  },
  {
   "cell_type": "code",
   "execution_count": 51,
   "id": "09ec06ae-c43a-4f3e-9fdd-d3d23dd1413d",
   "metadata": {},
   "outputs": [
    {
     "data": {
      "text/plain": [
       "True"
      ]
     },
     "execution_count": 51,
     "metadata": {},
     "output_type": "execute_result"
    }
   ],
   "source": [
    "#using of in kayword search substring  in given word\n",
    "\"the\" in \"netherland\""
   ]
  },
  {
   "cell_type": "code",
   "execution_count": 113,
   "id": "0ff07232-a188-40ff-bac5-3230a0d7d61b",
   "metadata": {},
   "outputs": [
    {
     "name": "stdout",
     "output_type": "stream",
     "text": [
      "['mango', 'apple', 'banana', 'pineapple', 'custard apple', 'strawberry', 'mulberry']\n"
     ]
    }
   ],
   "source": [
    "list3.append(\"mulberry\")\n",
    "print(list3)"
   ]
  },
  {
   "cell_type": "code",
   "execution_count": 115,
   "id": "a1b69705-fdaa-4b64-b001-52e91066c3e7",
   "metadata": {},
   "outputs": [
    {
     "name": "stdout",
     "output_type": "stream",
     "text": [
      "['mango', 'apple', 'banana', 'pineapple', 'custard apple', 'strawberry']\n"
     ]
    }
   ],
   "source": [
    "list3.remove(\"mulberry\")\n",
    "print(list3)"
   ]
  },
  {
   "cell_type": "code",
   "execution_count": 95,
   "id": "7c29b318-f97d-4f25-ba48-209b97bef350",
   "metadata": {},
   "outputs": [
    {
     "name": "stdout",
     "output_type": "stream",
     "text": [
      "strawberry\n",
      "mulberry\n"
     ]
    }
   ],
   "source": [
    "#display fruits with contain keyword as a berry\n",
    "for fruit in list3:\n",
    "    if \"berry\" in fruit:\n",
    "        print(fruit)\n"
   ]
  },
  {
   "cell_type": "code",
   "execution_count": 97,
   "id": "e72b908d-3007-4dc9-88d1-0f5bd2bb4c1f",
   "metadata": {},
   "outputs": [
    {
     "name": "stdout",
     "output_type": "stream",
     "text": [
      "apple\n",
      "pineapple\n",
      "custard apple\n"
     ]
    }
   ],
   "source": [
    "for fruit in list3:\n",
    "    if \"pple\" in fruit:\n",
    "        print(fruit)\n",
    "        \n",
    "    "
   ]
  },
  {
   "cell_type": "code",
   "execution_count": 117,
   "id": "6fd7042a-6408-415c-b7e2-3ff8550c70ba",
   "metadata": {},
   "outputs": [
    {
     "name": "stdout",
     "output_type": "stream",
     "text": [
      "['mango', 'apple', 'banana', 'pineapple', 'custard apple', 'strawberry', 'black berry']\n"
     ]
    }
   ],
   "source": [
    "list3.append(\"black berry\")\n",
    "print(list3)"
   ]
  },
  {
   "cell_type": "code",
   "execution_count": 119,
   "id": "f34f662a-ae1a-4b0b-8115-7b4669a9f81c",
   "metadata": {},
   "outputs": [
    {
     "name": "stdout",
     "output_type": "stream",
     "text": [
      "['mango', 'apple', 'banana', 'pineapple', 'custard apple', 'strawberry', 'black berry', 'mulberry']\n"
     ]
    }
   ],
   "source": [
    "list3.append('mulberry')\n",
    "print(list3)"
   ]
  },
  {
   "cell_type": "code",
   "execution_count": 123,
   "id": "3dfa3347-b771-43c9-81c1-69b584a1596b",
   "metadata": {},
   "outputs": [
    {
     "name": "stdout",
     "output_type": "stream",
     "text": [
      "['strawberry', 'black berry', 'mulberry']['mango', 'apple', 'banana', 'pineapple', 'custard apple']"
     ]
    }
   ],
   "source": [
    "#create list4 of fruit from list3 having ony berry as substracting and store remaining fruit\n",
    "list4=[]  #list does not containa ny element\n",
    "list5=[]\n",
    "for fruit in list3:\n",
    "    if \"berry\" in fruit:\n",
    "        list4.append(fruit)\n",
    "    else:\n",
    "        list5.append(fruit)   #it start execute from first element mango so else block will execute\n",
    "print(list4,end=\"\")\n",
    "print(list5,end=\"\")\n"
   ]
  },
  {
   "cell_type": "code",
   "execution_count": 125,
   "id": "66d33a40-4620-4d35-9d6b-eedbcb37d97f",
   "metadata": {},
   "outputs": [
    {
     "name": "stdout",
     "output_type": "stream",
     "text": [
      "[2, 3, 4, 5, 6][4, 9, 16, 25, 36]"
     ]
    }
   ],
   "source": [
    "#square the number in l1 and store it in a l2\n",
    "l1=[2,3,4,5,6]\n",
    "l2=[]\n",
    "for i in l1:\n",
    "    l2.append(i**2)  #i*i\n",
    "print(l1,end=\"\")\n",
    "print(l2,end=\"\")\n"
   ]
  },
  {
   "cell_type": "code",
   "execution_count": 129,
   "id": "852e19ca-2aa7-4784-a66e-47a7b8dd9e66",
   "metadata": {},
   "outputs": [
    {
     "name": "stdout",
     "output_type": "stream",
     "text": [
      "[2, 3, 4, 5, 6][4, 9, 16, 25, 36]"
     ]
    }
   ],
   "source": [
    "#list comprehension makes your code compact\n",
    "l1=[2,3,4,5,6]\n",
    "l2=[i**2 for i in l1]\n",
    "print(l1,end=\"\")\n",
    "print(l2,end=\"\")"
   ]
  },
  {
   "cell_type": "code",
   "execution_count": 147,
   "id": "84da918b-7fb1-4ebb-8d39-75b393856df6",
   "metadata": {},
   "outputs": [
    {
     "data": {
      "text/plain": [
       "['mango',\n",
       " 'apple',\n",
       " 'banana',\n",
       " 'pineapple',\n",
       " 'custard apple',\n",
       " 'strawberry',\n",
       " 'black berry',\n",
       " 'mulberry']"
      ]
     },
     "execution_count": 147,
     "metadata": {},
     "output_type": "execute_result"
    }
   ],
   "source": [
    "list3"
   ]
  },
  {
   "cell_type": "code",
   "execution_count": 135,
   "id": "c78b2cc2-abcf-47fe-8bb5-beab720653f2",
   "metadata": {},
   "outputs": [
    {
     "name": "stdout",
     "output_type": "stream",
     "text": [
      "['strawberry', 'black berry', 'mulberry']\n"
     ]
    }
   ],
   "source": [
    "newlist=[fruit for fruit in list3 if \"berry\" in fruit]   #from list3 element will added to fruit so it is used in initial\n",
    "print(newlist)"
   ]
  },
  {
   "cell_type": "code",
   "execution_count": 141,
   "id": "02f1daab-0113-4e36-8528-65d4c2b14092",
   "metadata": {},
   "outputs": [
    {
     "name": "stdout",
     "output_type": "stream",
     "text": [
      "['mango', 'apple', 'banana', 'pineapple', 'custard apple']\n"
     ]
    }
   ],
   "source": [
    "newlist1=[i for i in list3 if \"berry\"not in i]\n",
    "print(newlist1)"
   ]
  },
  {
   "cell_type": "code",
   "execution_count": 143,
   "id": "d672a0ca-cd18-4f8d-bcbd-8d8df0ba2b30",
   "metadata": {},
   "outputs": [
    {
     "name": "stdout",
     "output_type": "stream",
     "text": [
      "['pune', 'mumbai', 'satara', 'thane', 'solapur', 'kolhapur']\n"
     ]
    }
   ],
   "source": [
    "city=[\"pune\",\"mumbai\",\"satara\",\"thane\",\"solapur\",\"kolhapur\"]\n",
    "print(city)"
   ]
  },
  {
   "cell_type": "code",
   "execution_count": 145,
   "id": "7633648d-9b0a-4df6-b8ae-8ff6af556d8d",
   "metadata": {},
   "outputs": [
    {
     "name": "stdout",
     "output_type": "stream",
     "text": [
      "['pune', 'mumbai', 'satara', 'thane']\n"
     ]
    }
   ],
   "source": [
    "newcity=[i for i in city if \"pur\" not in i]\n",
    "print(newcity)"
   ]
  },
  {
   "cell_type": "code",
   "execution_count": 151,
   "id": "5b40455b-dbe4-4b61-afb8-e07c8cdfbbfb",
   "metadata": {},
   "outputs": [
    {
     "data": {
      "text/plain": [
       "5"
      ]
     },
     "execution_count": 151,
     "metadata": {},
     "output_type": "execute_result"
    }
   ],
   "source": [
    "list3.index(\"strawberry\")"
   ]
  },
  {
   "cell_type": "code",
   "execution_count": 155,
   "id": "03e3a3b5-26d9-4f51-aefb-107300e5dabd",
   "metadata": {},
   "outputs": [
    {
     "name": "stdout",
     "output_type": "stream",
     "text": [
      "['mango', 'apple', 'banana', 'pineapple', 'custard apple', 'strawberry', 'black berry', 'mulberry']"
     ]
    }
   ],
   "source": [
    "print(list3,end=\"\")"
   ]
  },
  {
   "cell_type": "code",
   "execution_count": 157,
   "id": "3d3d4fe9-08f3-4ac4-9ddb-fa0e70d9d448",
   "metadata": {},
   "outputs": [
    {
     "data": {
      "text/plain": [
       "['mango',\n",
       " 'apple',\n",
       " 'orange',\n",
       " 'pineapple',\n",
       " 'custard apple',\n",
       " 'strawberry',\n",
       " 'black berry',\n",
       " 'mulberry']"
      ]
     },
     "execution_count": 157,
     "metadata": {},
     "output_type": "execute_result"
    }
   ],
   "source": [
    "list3[2]=\"orange\"  # in index number 2 i justb insert orange so it is mutable(= used to assign)\n",
    "list3"
   ]
  },
  {
   "cell_type": "code",
   "execution_count": null,
   "id": "618379bc-8612-4e93-b93b-c846f98e94b0",
   "metadata": {},
   "outputs": [],
   "source": [
    "#data structure :2.tuple\n",
    "#tuple are not mutable \n",
    "#created using ()\n",
    "#same as that as list but list has rich library function"
   ]
  },
  {
   "cell_type": "code",
   "execution_count": 1,
   "id": "12f7548b-e0bc-4034-b394-cf0f79e045ac",
   "metadata": {},
   "outputs": [
    {
     "data": {
      "text/plain": [
       "(10, 20, 30, 40, 50)"
      ]
     },
     "execution_count": 1,
     "metadata": {},
     "output_type": "execute_result"
    }
   ],
   "source": [
    "t1=(10,20,30,40,50)\n",
    "t1"
   ]
  },
  {
   "cell_type": "code",
   "execution_count": 3,
   "id": "1a8a5fe9-7707-4838-93af-88657c3dd204",
   "metadata": {},
   "outputs": [
    {
     "data": {
      "text/plain": [
       "tuple"
      ]
     },
     "execution_count": 3,
     "metadata": {},
     "output_type": "execute_result"
    }
   ],
   "source": [
    "type(t1)"
   ]
  },
  {
   "cell_type": "code",
   "execution_count": 5,
   "id": "7543a246-786d-4ac9-bf37-60c2133a75c2",
   "metadata": {},
   "outputs": [
    {
     "data": {
      "text/plain": [
       "['__add__',\n",
       " '__class__',\n",
       " '__class_getitem__',\n",
       " '__contains__',\n",
       " '__delattr__',\n",
       " '__dir__',\n",
       " '__doc__',\n",
       " '__eq__',\n",
       " '__format__',\n",
       " '__ge__',\n",
       " '__getattribute__',\n",
       " '__getitem__',\n",
       " '__getnewargs__',\n",
       " '__getstate__',\n",
       " '__gt__',\n",
       " '__hash__',\n",
       " '__init__',\n",
       " '__init_subclass__',\n",
       " '__iter__',\n",
       " '__le__',\n",
       " '__len__',\n",
       " '__lt__',\n",
       " '__mul__',\n",
       " '__ne__',\n",
       " '__new__',\n",
       " '__reduce__',\n",
       " '__reduce_ex__',\n",
       " '__repr__',\n",
       " '__rmul__',\n",
       " '__setattr__',\n",
       " '__sizeof__',\n",
       " '__str__',\n",
       " '__subclasshook__',\n",
       " 'count',\n",
       " 'index']"
      ]
     },
     "execution_count": 5,
     "metadata": {},
     "output_type": "execute_result"
    }
   ],
   "source": [
    "dir(t1)"
   ]
  },
  {
   "cell_type": "code",
   "execution_count": 7,
   "id": "1a7ab965-f178-4a73-843c-13f20b3bae0b",
   "metadata": {},
   "outputs": [
    {
     "data": {
      "text/plain": [
       "30"
      ]
     },
     "execution_count": 7,
     "metadata": {},
     "output_type": "execute_result"
    }
   ],
   "source": [
    "t1[2]    # index should be in square brakets"
   ]
  },
  {
   "cell_type": "code",
   "execution_count": 13,
   "id": "cbb4d058-0132-4a7b-a2ab-0b1fd4add06e",
   "metadata": {},
   "outputs": [
    {
     "ename": "TypeError",
     "evalue": "'tuple' object does not support item assignment",
     "output_type": "error",
     "traceback": [
      "\u001b[1;31m---------------------------------------------------------------------------\u001b[0m",
      "\u001b[1;31mTypeError\u001b[0m                                 Traceback (most recent call last)",
      "Cell \u001b[1;32mIn[13], line 1\u001b[0m\n\u001b[1;32m----> 1\u001b[0m t1[\u001b[38;5;241m0\u001b[39m]\u001b[38;5;241m=\u001b[39m\u001b[38;5;241m100\u001b[39m\n\u001b[0;32m      2\u001b[0m t1\n",
      "\u001b[1;31mTypeError\u001b[0m: 'tuple' object does not support item assignment"
     ]
    }
   ],
   "source": [
    "t1[0]=100   # error because tupple are immutable\n",
    "t1"
   ]
  },
  {
   "cell_type": "code",
   "execution_count": 15,
   "id": "78f2170e-9ce6-4628-a574-9dad127aaebf",
   "metadata": {},
   "outputs": [
    {
     "data": {
      "text/plain": [
       "(10, 20, 30, 40, 50, 6, 7, 8, 9, 10)"
      ]
     },
     "execution_count": 15,
     "metadata": {},
     "output_type": "execute_result"
    }
   ],
   "source": [
    "t3=t1+(6,7,8,9,10)\n",
    "t3"
   ]
  },
  {
   "cell_type": "code",
   "execution_count": 17,
   "id": "16e8ac68-c9e2-4ce9-9265-40a3b0f4f6ab",
   "metadata": {},
   "outputs": [
    {
     "data": {
      "text/plain": [
       "(10, 20, 30, 40, 50, 10, 20, 30, 40, 50, 10, 20, 30, 40, 50)"
      ]
     },
     "execution_count": 17,
     "metadata": {},
     "output_type": "execute_result"
    }
   ],
   "source": [
    "t1*3"
   ]
  },
  {
   "cell_type": "code",
   "execution_count": 19,
   "id": "803e9fd5-1f23-4e47-995e-7d5c7662d921",
   "metadata": {},
   "outputs": [
    {
     "data": {
      "text/plain": [
       "1"
      ]
     },
     "execution_count": 19,
     "metadata": {},
     "output_type": "execute_result"
    }
   ],
   "source": [
    "t1.count(50)"
   ]
  },
  {
   "cell_type": "code",
   "execution_count": 23,
   "id": "0fb6da1a-ad82-43ae-bf77-1aede2d64777",
   "metadata": {},
   "outputs": [
    {
     "data": {
      "text/plain": [
       "3"
      ]
     },
     "execution_count": 23,
     "metadata": {},
     "output_type": "execute_result"
    }
   ],
   "source": [
    "t1.index(40)"
   ]
  },
  {
   "cell_type": "code",
   "execution_count": 25,
   "id": "abeb34b8-9062-4edf-842c-13fc62f7f5c5",
   "metadata": {},
   "outputs": [
    {
     "data": {
      "text/plain": [
       "5"
      ]
     },
     "execution_count": 25,
     "metadata": {},
     "output_type": "execute_result"
    }
   ],
   "source": [
    "t2=(1,1,1,2,2,6,6,6,7,6,6,7)    # where the first repaeted value is present\n",
    "t2.index(6)"
   ]
  },
  {
   "cell_type": "code",
   "execution_count": 27,
   "id": "b92bcf7d-2692-4686-a6c6-cc2292611174",
   "metadata": {},
   "outputs": [
    {
     "data": {
      "text/plain": [
       "5"
      ]
     },
     "execution_count": 27,
     "metadata": {},
     "output_type": "execute_result"
    }
   ],
   "source": [
    "t2.count(6)"
   ]
  },
  {
   "cell_type": "code",
   "execution_count": 29,
   "id": "40a74e51-2506-491a-8f5d-7b7cffa529f2",
   "metadata": {},
   "outputs": [
    {
     "data": {
      "text/plain": [
       "(10, 20, 30, 40, 50)"
      ]
     },
     "execution_count": 29,
     "metadata": {},
     "output_type": "execute_result"
    }
   ],
   "source": [
    "t1"
   ]
  },
  {
   "cell_type": "code",
   "execution_count": 31,
   "id": "0e8c0d82-3d1c-4d1f-8fff-f053580c5de0",
   "metadata": {},
   "outputs": [
    {
     "data": {
      "text/plain": [
       "30"
      ]
     },
     "execution_count": 31,
     "metadata": {},
     "output_type": "execute_result"
    }
   ],
   "source": [
    "t1[2]"
   ]
  },
  {
   "cell_type": "code",
   "execution_count": 33,
   "id": "a3291f20-6877-4c5f-9fc5-6d673a20f55f",
   "metadata": {},
   "outputs": [
    {
     "data": {
      "text/plain": [
       "(20, 30, 40, 50)"
      ]
     },
     "execution_count": 33,
     "metadata": {},
     "output_type": "execute_result"
    }
   ],
   "source": [
    "t1[1:5]"
   ]
  },
  {
   "cell_type": "code",
   "execution_count": 35,
   "id": "d3bd5b9d-7996-430e-8ac5-e3f610f3ecdd",
   "metadata": {},
   "outputs": [
    {
     "data": {
      "text/plain": [
       "(40, 50)"
      ]
     },
     "execution_count": 35,
     "metadata": {},
     "output_type": "execute_result"
    }
   ],
   "source": [
    "t1[3:]"
   ]
  },
  {
   "cell_type": "code",
   "execution_count": null,
   "id": "87dea005-7626-4091-9145-33ef133c0a32",
   "metadata": {},
   "outputs": [],
   "source": [
    "#data structure 3.dictionary\n",
    "#these are used to store data values in \"key\":\"value\" pairs\n",
    "#it collect the element ordered 'changable'not allow a duplication\n",
    "# written with{\"key:value\"}\n",
    "#here,keys are unique identifiers that are associated with each other."
   ]
  },
  {
   "cell_type": "code",
   "execution_count": 7,
   "id": "7f67f29b-4dc0-4dab-a775-7e1739f623a7",
   "metadata": {},
   "outputs": [
    {
     "data": {
      "text/plain": [
       "{'nepal': 'katmandu', 'italy': 'rome', 'england': 'london'}"
      ]
     },
     "execution_count": 7,
     "metadata": {},
     "output_type": "execute_result"
    }
   ],
   "source": [
    "capital_dict={\"nepal\":\"katmandu\",\"italy\":\"rome\",\"england\":\"london\"}\n",
    "capital_dict"
   ]
  },
  {
   "cell_type": "code",
   "execution_count": 9,
   "id": "627a2156-31f9-43a7-a201-8b27d8791839",
   "metadata": {},
   "outputs": [
    {
     "data": {
      "text/plain": [
       "3"
      ]
     },
     "execution_count": 9,
     "metadata": {},
     "output_type": "execute_result"
    }
   ],
   "source": [
    "list=(capital_dict.keys())\n",
    "len(list)"
   ]
  },
  {
   "cell_type": "code",
   "execution_count": 11,
   "id": "9f470cca-913a-446c-86ef-f7619d86c4db",
   "metadata": {},
   "outputs": [
    {
     "data": {
      "text/plain": [
       "dict"
      ]
     },
     "execution_count": 11,
     "metadata": {},
     "output_type": "execute_result"
    }
   ],
   "source": [
    "type(capital_dict)"
   ]
  },
  {
   "cell_type": "code",
   "execution_count": 43,
   "id": "36aaaa88-bc9f-4d8d-95c7-e9edeb308bf5",
   "metadata": {},
   "outputs": [
    {
     "data": {
      "text/plain": [
       "['__class__',\n",
       " '__class_getitem__',\n",
       " '__contains__',\n",
       " '__delattr__',\n",
       " '__delitem__',\n",
       " '__dir__',\n",
       " '__doc__',\n",
       " '__eq__',\n",
       " '__format__',\n",
       " '__ge__',\n",
       " '__getattribute__',\n",
       " '__getitem__',\n",
       " '__getstate__',\n",
       " '__gt__',\n",
       " '__hash__',\n",
       " '__init__',\n",
       " '__init_subclass__',\n",
       " '__ior__',\n",
       " '__iter__',\n",
       " '__le__',\n",
       " '__len__',\n",
       " '__lt__',\n",
       " '__ne__',\n",
       " '__new__',\n",
       " '__or__',\n",
       " '__reduce__',\n",
       " '__reduce_ex__',\n",
       " '__repr__',\n",
       " '__reversed__',\n",
       " '__ror__',\n",
       " '__setattr__',\n",
       " '__setitem__',\n",
       " '__sizeof__',\n",
       " '__str__',\n",
       " '__subclasshook__',\n",
       " 'clear',\n",
       " 'copy',\n",
       " 'fromkeys',\n",
       " 'get',\n",
       " 'items',\n",
       " 'keys',\n",
       " 'pop',\n",
       " 'popitem',\n",
       " 'setdefault',\n",
       " 'update',\n",
       " 'values']"
      ]
     },
     "execution_count": 43,
     "metadata": {},
     "output_type": "execute_result"
    }
   ],
   "source": [
    "dir(capital_dict)"
   ]
  },
  {
   "cell_type": "code",
   "execution_count": 51,
   "id": "9d04c53c-7314-48bd-b4ef-e775ac3cc172",
   "metadata": {},
   "outputs": [
    {
     "data": {
      "text/plain": [
       "'rome'"
      ]
     },
     "execution_count": 51,
     "metadata": {},
     "output_type": "execute_result"
    }
   ],
   "source": [
    "#to access elements in dictionary\n",
    "capital_dict[\"italy\"]"
   ]
  },
  {
   "cell_type": "code",
   "execution_count": 13,
   "id": "382f563a-933c-4380-9a7d-9897f0d6965f",
   "metadata": {},
   "outputs": [
    {
     "data": {
      "text/plain": [
       "dict_keys(['nepal', 'italy', 'england'])"
      ]
     },
     "execution_count": 13,
     "metadata": {},
     "output_type": "execute_result"
    }
   ],
   "source": [
    "keys1=capital_dict.keys()\n",
    "keys1"
   ]
  },
  {
   "cell_type": "code",
   "execution_count": 15,
   "id": "1907dd51-c294-4308-8d95-86c6bf1071c9",
   "metadata": {},
   "outputs": [
    {
     "data": {
      "text/plain": [
       "dict_values(['katmandu', 'rome', 'london'])"
      ]
     },
     "execution_count": 15,
     "metadata": {},
     "output_type": "execute_result"
    }
   ],
   "source": [
    "value=capital_dict.values()\n",
    "value"
   ]
  },
  {
   "cell_type": "code",
   "execution_count": 17,
   "id": "8b11e2fd-3185-4e56-ac09-568b19f94a59",
   "metadata": {},
   "outputs": [
    {
     "data": {
      "text/plain": [
       "dict_keys"
      ]
     },
     "execution_count": 17,
     "metadata": {},
     "output_type": "execute_result"
    }
   ],
   "source": [
    "type(keys1)"
   ]
  },
  {
   "cell_type": "code",
   "execution_count": 19,
   "id": "343462ab-d7f1-4ab1-9fdc-bff9e93b2e9b",
   "metadata": {},
   "outputs": [
    {
     "data": {
      "text/plain": [
       "dict_values"
      ]
     },
     "execution_count": 19,
     "metadata": {},
     "output_type": "execute_result"
    }
   ],
   "source": [
    "type(value)"
   ]
  },
  {
   "cell_type": "code",
   "execution_count": 21,
   "id": "b428489b-d813-4029-a46b-f1ede8142ec5",
   "metadata": {},
   "outputs": [
    {
     "data": {
      "text/plain": [
       "dict_items([('nepal', 'katmandu'), ('italy', 'rome'), ('england', 'london')])"
      ]
     },
     "execution_count": 21,
     "metadata": {},
     "output_type": "execute_result"
    }
   ],
   "source": [
    "# using item output will displayed as(key ,value)\n",
    "items=capital_dict.items()\n",
    "items"
   ]
  },
  {
   "cell_type": "code",
   "execution_count": 23,
   "id": "1496af3c-6405-4fc7-ae57-3dcba1b194cd",
   "metadata": {},
   "outputs": [
    {
     "data": {
      "text/plain": [
       "{'nepal': 'katmandu',\n",
       " 'italy': 'rome',\n",
       " 'england': 'london',\n",
       " 'india': 'new delhi',\n",
       " 'abc': 'xyz'}"
      ]
     },
     "execution_count": 23,
     "metadata": {},
     "output_type": "execute_result"
    }
   ],
   "source": [
    "# the update() method updates the dictionary with the elements from another dictionary object or more an iterable of key/value pairs\n",
    "add_capital={\"india\":\"new delhi\",\"abc\":\"xyz\"}\n",
    "capital_dict.update(add_capital)\n",
    "capital_dict\n",
    "\n",
    "\n",
    "\n",
    "\n",
    "\n"
   ]
  },
  {
   "cell_type": "code",
   "execution_count": 25,
   "id": "626ba8e1-80c2-4027-bca2-b9e1e8049f03",
   "metadata": {},
   "outputs": [
    {
     "data": {
      "text/plain": [
       "{'nepal': 'katmandu',\n",
       " 'italy': 'rome',\n",
       " 'england': 'london',\n",
       " 'india': 'new delhi',\n",
       " 'abc': 'xyz',\n",
       " 'australia': 'sydney'}"
      ]
     },
     "execution_count": 25,
     "metadata": {},
     "output_type": "execute_result"
    }
   ],
   "source": [
    "# another way to add values and keys instead of creating new dictionary\n",
    "capital_dict.update({\"australia\":\"sydney\"})\n",
    "capital_dict"
   ]
  },
  {
   "cell_type": "code",
   "execution_count": 27,
   "id": "31fdafbf-172b-4d28-a374-e3505f22a2d3",
   "metadata": {},
   "outputs": [
    {
     "data": {
      "text/plain": [
       "{'nepal': 'katmandu',\n",
       " 'italy': 'rome',\n",
       " 'england': 'london',\n",
       " 'india': 'new delhi',\n",
       " 'abc': 'xyz',\n",
       " 'australia': 'sydney',\n",
       " 'a': 'b',\n",
       " 'p': 'q'}"
      ]
     },
     "execution_count": 27,
     "metadata": {},
     "output_type": "execute_result"
    }
   ],
   "source": [
    "capital_dict.update({\"a\":\"b\",\"p\":\"q\"})\n",
    "capital_dict"
   ]
  },
  {
   "cell_type": "code",
   "execution_count": 29,
   "id": "0f319d26-436e-4a1c-af63-72a5fee455f7",
   "metadata": {},
   "outputs": [
    {
     "data": {
      "text/plain": [
       "'sydney'"
      ]
     },
     "execution_count": 29,
     "metadata": {},
     "output_type": "execute_result"
    }
   ],
   "source": [
    "# the pop() remove and return an element from a dictionary having the given element\n",
    "capital_dict.pop(\"australia\")"
   ]
  },
  {
   "cell_type": "code",
   "execution_count": 31,
   "id": "e6a96d20-cde3-4c42-a666-f723537eabe7",
   "metadata": {},
   "outputs": [
    {
     "data": {
      "text/plain": [
       "{'nepal': 'katmandu',\n",
       " 'italy': 'rome',\n",
       " 'england': 'london',\n",
       " 'india': 'new delhi',\n",
       " 'abc': 'xyz',\n",
       " 'a': 'b',\n",
       " 'p': 'q'}"
      ]
     },
     "execution_count": 31,
     "metadata": {},
     "output_type": "execute_result"
    }
   ],
   "source": [
    "capital_dict"
   ]
  },
  {
   "cell_type": "code",
   "execution_count": 35,
   "id": "4887dbc3-7be7-45ef-ad79-c010798b23b1",
   "metadata": {},
   "outputs": [
    {
     "data": {
      "text/plain": [
       "{'nepal': 'katmandu',\n",
       " 'italy': 'rome',\n",
       " 'england': 'london',\n",
       " 'india': 'new delhi',\n",
       " 'abc': 'mumbai',\n",
       " 'a': 'b',\n",
       " 'p': 'q'}"
      ]
     },
     "execution_count": 35,
     "metadata": {},
     "output_type": "execute_result"
    }
   ],
   "source": [
    "capital_dict[\"abc\"]=\"mumbai\"  \n",
    "#instead of value xyz we have to replace it with mumbai\n",
    "capital_dict"
   ]
  },
  {
   "cell_type": "code",
   "execution_count": 37,
   "id": "7627f2e5-a5f6-4099-bf41-626ba1995efb",
   "metadata": {},
   "outputs": [
    {
     "data": {
      "text/plain": [
       "('p', 'q')"
      ]
     },
     "execution_count": 37,
     "metadata": {},
     "output_type": "execute_result"
    }
   ],
   "source": [
    "capital_dict.popitem()  # in default it remoce last values"
   ]
  },
  {
   "cell_type": "code",
   "execution_count": 129,
   "id": "48a1c30d-d696-41d1-bd23-54605094bf98",
   "metadata": {},
   "outputs": [
    {
     "data": {
      "text/plain": [
       "{'nepal': 'katmandu',\n",
       " 'italy': 'rome',\n",
       " 'england': 'london',\n",
       " 'india': 'new delhi',\n",
       " 'abc': 'mumbai',\n",
       " 'a': 'b'}"
      ]
     },
     "execution_count": 129,
     "metadata": {},
     "output_type": "execute_result"
    }
   ],
   "source": [
    "capital_dict"
   ]
  },
  {
   "cell_type": "code",
   "execution_count": 103,
   "id": "82104779-8702-47cf-9828-5027227af3d3",
   "metadata": {},
   "outputs": [
    {
     "data": {
      "text/plain": [
       "['mango', 'apple', 'banana', 'pineapple', 'custard apple', 'strawberry']"
      ]
     },
     "execution_count": 103,
     "metadata": {},
     "output_type": "execute_result"
    }
   ],
   "source": [
    "#dictionary value of different data type\n",
    "mylist=[\"mango\",\"apple\",\"banana\",\"pineapple\",\"custard apple\",\"strawberry\"]\n",
    "mylist"
   ]
  },
  {
   "cell_type": "code",
   "execution_count": 105,
   "id": "ecd0f4ba-a591-482a-8e17-c7a7c7820823",
   "metadata": {},
   "outputs": [
    {
     "data": {
      "text/plain": [
       "6"
      ]
     },
     "execution_count": 105,
     "metadata": {},
     "output_type": "execute_result"
    }
   ],
   "source": [
    "len(mylist)"
   ]
  },
  {
   "cell_type": "code",
   "execution_count": 49,
   "id": "bd69a5c5-d4a0-42ee-8353-7cb541958041",
   "metadata": {},
   "outputs": [
    {
     "data": {
      "text/plain": [
       "(20, 53, 45, 78, 89, 65, 97)"
      ]
     },
     "execution_count": 49,
     "metadata": {},
     "output_type": "execute_result"
    }
   ],
   "source": [
    "mytuple=(20,53,45,78,89,65,97)\n",
    "mytuple"
   ]
  },
  {
   "cell_type": "code",
   "execution_count": 111,
   "id": "7ecfc549-9cdf-4c25-b795-280b66f76b56",
   "metadata": {},
   "outputs": [
    {
     "data": {
      "text/plain": [
       "{'a': ['mango', 'apple', 'banana', 'pineapple', 'custard apple', 'strawberry'],\n",
       " 'b': (20, 53, 45, 78, 89, 65, 97),\n",
       " 'c': {'nepal': 'katmandu',\n",
       "  'italy': 'rome',\n",
       "  'england': 'london',\n",
       "  'india': 'new delhi',\n",
       "  'abc': 'mumbai',\n",
       "  'a': 'b'}}"
      ]
     },
     "execution_count": 111,
     "metadata": {},
     "output_type": "execute_result"
    }
   ],
   "source": [
    "mydict={\"a\":mylist,\n",
    "        \"b\":mytuple,\n",
    "        \"c\":capital_dict}\n",
    "mydict"
   ]
  },
  {
   "cell_type": "code",
   "execution_count": 113,
   "id": "1c84b620-7c87-4e7f-8fb3-6f72722a830d",
   "metadata": {},
   "outputs": [
    {
     "data": {
      "text/plain": [
       "['mango', 'apple', 'banana', 'pineapple', 'custard apple', 'strawberry']"
      ]
     },
     "execution_count": 113,
     "metadata": {},
     "output_type": "execute_result"
    }
   ],
   "source": [
    "mydict[\"a\"]"
   ]
  },
  {
   "cell_type": "code",
   "execution_count": 115,
   "id": "e27d80d1-27b5-470f-a9ca-716cf3dbf375",
   "metadata": {},
   "outputs": [
    {
     "data": {
      "text/plain": [
       "3"
      ]
     },
     "execution_count": 115,
     "metadata": {},
     "output_type": "execute_result"
    }
   ],
   "source": [
    "len(mydict)\n"
   ]
  },
  {
   "cell_type": "code",
   "execution_count": 117,
   "id": "e6c33d84-5c0d-491d-b907-c502973232eb",
   "metadata": {},
   "outputs": [
    {
     "data": {
      "text/plain": [
       "6"
      ]
     },
     "execution_count": 117,
     "metadata": {},
     "output_type": "execute_result"
    }
   ],
   "source": [
    "len(mydict['a'])"
   ]
  },
  {
   "cell_type": "code",
   "execution_count": 83,
   "id": "89798f70-eeb5-49f4-903f-e1922c06780e",
   "metadata": {},
   "outputs": [
    {
     "data": {
      "text/plain": [
       "['mango', 'apple', 'banana', 'pineapple', 'custard apple', 'strawberry']"
      ]
     },
     "execution_count": 83,
     "metadata": {},
     "output_type": "execute_result"
    }
   ],
   "source": [
    "mydict['a'][0]"
   ]
  },
  {
   "cell_type": "code",
   "execution_count": 87,
   "id": "80fed958-f3d4-4e20-bd2c-c08b75a46b71",
   "metadata": {},
   "outputs": [
    {
     "data": {
      "text/plain": [
       "(20, 53, 45, 78, 89, 65, 97)"
      ]
     },
     "execution_count": 87,
     "metadata": {},
     "output_type": "execute_result"
    }
   ],
   "source": [
    "mydict[\"b\"]"
   ]
  },
  {
   "cell_type": "code",
   "execution_count": 89,
   "id": "08e2133c-4e9a-478d-86e2-a6a125744d55",
   "metadata": {},
   "outputs": [
    {
     "data": {
      "text/plain": [
       "7"
      ]
     },
     "execution_count": 89,
     "metadata": {},
     "output_type": "execute_result"
    }
   ],
   "source": [
    "len(mydict['b'])"
   ]
  },
  {
   "cell_type": "code",
   "execution_count": 125,
   "id": "33df3cd1-b839-42f9-a2cd-8dfbd8700dad",
   "metadata": {},
   "outputs": [
    {
     "data": {
      "text/plain": [
       "'strawberry'"
      ]
     },
     "execution_count": 125,
     "metadata": {},
     "output_type": "execute_result"
    }
   ],
   "source": [
    "mydict['a'][5]"
   ]
  },
  {
   "cell_type": "code",
   "execution_count": 133,
   "id": "5140410f-45ab-403d-bc29-e9be035cf647",
   "metadata": {},
   "outputs": [
    {
     "data": {
      "text/plain": [
       "'london'"
      ]
     },
     "execution_count": 133,
     "metadata": {},
     "output_type": "execute_result"
    }
   ],
   "source": [
    "mydict['c'][\"england\"]   # in dictionary we didnot use index we use key"
   ]
  },
  {
   "cell_type": "code",
   "execution_count": 135,
   "id": "e92d72fe-2443-41bc-ac7b-1ac3953d7bb4",
   "metadata": {},
   "outputs": [
    {
     "ename": "NameError",
     "evalue": "name 'sqrt' is not defined",
     "output_type": "error",
     "traceback": [
      "\u001b[1;31m---------------------------------------------------------------------------\u001b[0m",
      "\u001b[1;31mNameError\u001b[0m                                 Traceback (most recent call last)",
      "Cell \u001b[1;32mIn[135], line 1\u001b[0m\n\u001b[1;32m----> 1\u001b[0m sqrt(\u001b[38;5;241m25\u001b[39m)\n",
      "\u001b[1;31mNameError\u001b[0m: name 'sqrt' is not defined"
     ]
    }
   ],
   "source": [
    "# math function :can import specific function or all using*\n",
    "sqrt(25)  # to solve these 2 ways are there"
   ]
  },
  {
   "cell_type": "code",
   "execution_count": 137,
   "id": "156dabd7-510b-4396-92e0-1ca3cb5c1109",
   "metadata": {},
   "outputs": [
    {
     "data": {
      "text/plain": [
       "5.0"
      ]
     },
     "execution_count": 137,
     "metadata": {},
     "output_type": "execute_result"
    }
   ],
   "source": [
    "from math import sqrt   #1st way\n",
    "sqrt(25)\n"
   ]
  },
  {
   "cell_type": "code",
   "execution_count": 139,
   "id": "8395f95f-0ca8-44dd-94c9-9da2c2b77dbd",
   "metadata": {},
   "outputs": [
    {
     "data": {
      "text/plain": [
       "120"
      ]
     },
     "execution_count": 139,
     "metadata": {},
     "output_type": "execute_result"
    }
   ],
   "source": [
    "from math import factorial\n",
    "factorial(5)"
   ]
  },
  {
   "cell_type": "code",
   "execution_count": 143,
   "id": "60b18a84-902f-401b-9133-19918b7ddcbd",
   "metadata": {},
   "outputs": [
    {
     "data": {
      "text/plain": [
       "1.0"
      ]
     },
     "execution_count": 143,
     "metadata": {},
     "output_type": "execute_result"
    }
   ],
   "source": [
    "from math import sin,cos,tan\n",
    "cos(0)"
   ]
  },
  {
   "cell_type": "code",
   "execution_count": 145,
   "id": "5c515a76-8923-4110-8834-7ed6fa5f0a40",
   "metadata": {},
   "outputs": [
    {
     "data": {
      "text/plain": [
       "30"
      ]
     },
     "execution_count": 145,
     "metadata": {},
     "output_type": "execute_result"
    }
   ],
   "source": [
    "from math import *\n",
    "listnew=[5,2,3]\n",
    "prod(listnew)"
   ]
  },
  {
   "cell_type": "code",
   "execution_count": 153,
   "id": "e3161114-bd9d-4eef-a556-86ea53fdcf6a",
   "metadata": {},
   "outputs": [
    {
     "data": {
      "text/plain": [
       "60"
      ]
     },
     "execution_count": 153,
     "metadata": {},
     "output_type": "execute_result"
    }
   ],
   "source": [
    "import math   #2nd way\n",
    "sequence=(2,22,5,6)\n",
    "math.prod(list4)"
   ]
  },
  {
   "cell_type": "code",
   "execution_count": 151,
   "id": "0f53ad3e-3bdf-42ea-9020-cee4ade1d966",
   "metadata": {},
   "outputs": [
    {
     "data": {
      "text/plain": [
       "(3, 4, 5)"
      ]
     },
     "execution_count": 151,
     "metadata": {},
     "output_type": "execute_result"
    }
   ],
   "source": [
    "list4=(3,4,5)\n",
    "list4"
   ]
  },
  {
   "cell_type": "code",
   "execution_count": 155,
   "id": "9f0b7a6d-a765-47db-b933-f392a363ef72",
   "metadata": {},
   "outputs": [
    {
     "data": {
      "text/plain": [
       "['__doc__',\n",
       " '__loader__',\n",
       " '__name__',\n",
       " '__package__',\n",
       " '__spec__',\n",
       " 'acos',\n",
       " 'acosh',\n",
       " 'asin',\n",
       " 'asinh',\n",
       " 'atan',\n",
       " 'atan2',\n",
       " 'atanh',\n",
       " 'cbrt',\n",
       " 'ceil',\n",
       " 'comb',\n",
       " 'copysign',\n",
       " 'cos',\n",
       " 'cosh',\n",
       " 'degrees',\n",
       " 'dist',\n",
       " 'e',\n",
       " 'erf',\n",
       " 'erfc',\n",
       " 'exp',\n",
       " 'exp2',\n",
       " 'expm1',\n",
       " 'fabs',\n",
       " 'factorial',\n",
       " 'floor',\n",
       " 'fmod',\n",
       " 'frexp',\n",
       " 'fsum',\n",
       " 'gamma',\n",
       " 'gcd',\n",
       " 'hypot',\n",
       " 'inf',\n",
       " 'isclose',\n",
       " 'isfinite',\n",
       " 'isinf',\n",
       " 'isnan',\n",
       " 'isqrt',\n",
       " 'lcm',\n",
       " 'ldexp',\n",
       " 'lgamma',\n",
       " 'log',\n",
       " 'log10',\n",
       " 'log1p',\n",
       " 'log2',\n",
       " 'modf',\n",
       " 'nan',\n",
       " 'nextafter',\n",
       " 'perm',\n",
       " 'pi',\n",
       " 'pow',\n",
       " 'prod',\n",
       " 'radians',\n",
       " 'remainder',\n",
       " 'sin',\n",
       " 'sinh',\n",
       " 'sqrt',\n",
       " 'sumprod',\n",
       " 'tan',\n",
       " 'tanh',\n",
       " 'tau',\n",
       " 'trunc',\n",
       " 'ulp']"
      ]
     },
     "execution_count": 155,
     "metadata": {},
     "output_type": "execute_result"
    }
   ],
   "source": [
    "dir(math)"
   ]
  },
  {
   "cell_type": "code",
   "execution_count": 163,
   "id": "3aa16be4-39a4-488f-880b-472e3bdf824f",
   "metadata": {},
   "outputs": [],
   "source": [
    "import math as mt"
   ]
  },
  {
   "cell_type": "code",
   "execution_count": 161,
   "id": "ef152cf6-9e89-4d0c-91cf-8d88306496d3",
   "metadata": {},
   "outputs": [
    {
     "data": {
      "text/plain": [
       "6.0"
      ]
     },
     "execution_count": 161,
     "metadata": {},
     "output_type": "execute_result"
    }
   ],
   "source": [
    "math.sqrt(36)\n"
   ]
  },
  {
   "cell_type": "code",
   "execution_count": 165,
   "id": "08a9102c-ed1b-4008-897a-a6c122120d11",
   "metadata": {},
   "outputs": [
    {
     "data": {
      "text/plain": [
       "6.0"
      ]
     },
     "execution_count": 165,
     "metadata": {},
     "output_type": "execute_result"
    }
   ],
   "source": [
    "mt.sqrt(36)"
   ]
  },
  {
   "cell_type": "code",
   "execution_count": null,
   "id": "67e37074-2e92-4327-8220-1688cc16e5ef",
   "metadata": {},
   "outputs": [],
   "source": []
  },
  {
   "cell_type": "code",
   "execution_count": null,
   "id": "820aadd6-433d-4a10-ad24-258c243e8f30",
   "metadata": {},
   "outputs": [],
   "source": []
  },
  {
   "cell_type": "code",
   "execution_count": null,
   "id": "33521373-55b3-4b09-836b-0ee81a853d1f",
   "metadata": {},
   "outputs": [],
   "source": []
  },
  {
   "cell_type": "code",
   "execution_count": null,
   "id": "fc2f1da7-6b8a-47e1-b263-a9e739927210",
   "metadata": {},
   "outputs": [],
   "source": []
  },
  {
   "cell_type": "code",
   "execution_count": null,
   "id": "bfc1e2da-cac5-417e-b7aa-18812b29429e",
   "metadata": {},
   "outputs": [],
   "source": []
  },
  {
   "cell_type": "code",
   "execution_count": null,
   "id": "0f05ce77-9428-4563-8fe6-f653ad5e2900",
   "metadata": {},
   "outputs": [],
   "source": []
  },
  {
   "cell_type": "code",
   "execution_count": null,
   "id": "af84ef3e-7f1e-46bf-87d7-1897257807b5",
   "metadata": {},
   "outputs": [],
   "source": []
  },
  {
   "cell_type": "code",
   "execution_count": null,
   "id": "4cd4d73c-7b13-4455-99ff-347a3e0b58e8",
   "metadata": {},
   "outputs": [],
   "source": []
  },
  {
   "cell_type": "code",
   "execution_count": null,
   "id": "7e92c24f-6deb-4a4c-80b5-ee82be78c6cd",
   "metadata": {},
   "outputs": [],
   "source": []
  },
  {
   "cell_type": "code",
   "execution_count": null,
   "id": "d096da71-e33c-44a0-8b88-7699f1617a3c",
   "metadata": {},
   "outputs": [],
   "source": []
  },
  {
   "cell_type": "code",
   "execution_count": null,
   "id": "0c790d7e-1b87-42b0-bf78-b6ded82b0a27",
   "metadata": {},
   "outputs": [],
   "source": []
  },
  {
   "cell_type": "code",
   "execution_count": null,
   "id": "bb5415d1-668f-4850-a45b-d54efe6ca8b3",
   "metadata": {},
   "outputs": [],
   "source": []
  },
  {
   "cell_type": "code",
   "execution_count": null,
   "id": "0f5acd1c-6c7a-4859-9ec9-65a06a703f9d",
   "metadata": {},
   "outputs": [],
   "source": []
  },
  {
   "cell_type": "code",
   "execution_count": null,
   "id": "26186e34-7637-4700-aafb-23dbacb183d1",
   "metadata": {},
   "outputs": [],
   "source": []
  },
  {
   "cell_type": "code",
   "execution_count": null,
   "id": "8d54bc74-af0b-4799-9a7f-c8b8b73fb435",
   "metadata": {},
   "outputs": [],
   "source": []
  },
  {
   "cell_type": "code",
   "execution_count": null,
   "id": "d5ba3cc1-cd6a-4047-b405-da2eb5138ff9",
   "metadata": {},
   "outputs": [],
   "source": []
  },
  {
   "cell_type": "code",
   "execution_count": null,
   "id": "226c4fa2-a3ba-4912-9a8a-09e6b3b669dd",
   "metadata": {},
   "outputs": [],
   "source": []
  },
  {
   "cell_type": "code",
   "execution_count": null,
   "id": "2fbb93ca-bee9-4657-8bca-ce7da3d077a8",
   "metadata": {},
   "outputs": [],
   "source": []
  },
  {
   "cell_type": "code",
   "execution_count": null,
   "id": "63d5903c-9a8e-4f70-9c0d-8aa7d3c2ad3b",
   "metadata": {},
   "outputs": [],
   "source": []
  },
  {
   "cell_type": "code",
   "execution_count": null,
   "id": "be2f323a-5f33-4594-a8a3-12322852cc55",
   "metadata": {},
   "outputs": [],
   "source": []
  },
  {
   "cell_type": "code",
   "execution_count": null,
   "id": "6e0741df-c6f3-4a00-a01b-948f1e5838da",
   "metadata": {},
   "outputs": [],
   "source": []
  },
  {
   "cell_type": "code",
   "execution_count": null,
   "id": "3a6d9010-03bc-4107-ae89-2ccc7f5a0152",
   "metadata": {},
   "outputs": [],
   "source": []
  },
  {
   "cell_type": "code",
   "execution_count": null,
   "id": "1bf2d9dc-a4d3-4c28-8166-157d9e65ad73",
   "metadata": {},
   "outputs": [],
   "source": []
  },
  {
   "cell_type": "code",
   "execution_count": null,
   "id": "4c5549d8-669b-42f6-9809-0f2560791421",
   "metadata": {},
   "outputs": [],
   "source": []
  },
  {
   "cell_type": "code",
   "execution_count": null,
   "id": "bf5e56f6-8c81-4b7c-8d2e-cab1291ae977",
   "metadata": {},
   "outputs": [],
   "source": []
  },
  {
   "cell_type": "code",
   "execution_count": null,
   "id": "c629a8d7-66e6-4563-a3b5-1af6a62c75a8",
   "metadata": {},
   "outputs": [],
   "source": []
  },
  {
   "cell_type": "code",
   "execution_count": null,
   "id": "6a8f9d59-75f5-41d9-9469-71bb84d215fd",
   "metadata": {},
   "outputs": [],
   "source": []
  },
  {
   "cell_type": "code",
   "execution_count": null,
   "id": "947d0e15-d564-4046-abe7-a7c02175feba",
   "metadata": {},
   "outputs": [],
   "source": []
  },
  {
   "cell_type": "code",
   "execution_count": null,
   "id": "40074968-26e9-421a-8181-03193523fc6d",
   "metadata": {},
   "outputs": [],
   "source": []
  },
  {
   "cell_type": "code",
   "execution_count": null,
   "id": "8578d565-3970-4c87-b137-23091f31ae2c",
   "metadata": {},
   "outputs": [],
   "source": []
  },
  {
   "cell_type": "code",
   "execution_count": null,
   "id": "40889cc1-4b39-40aa-9158-e05be29f6654",
   "metadata": {},
   "outputs": [],
   "source": []
  },
  {
   "cell_type": "code",
   "execution_count": null,
   "id": "4e4203fe-992f-42b7-93de-0cdc617ce62a",
   "metadata": {},
   "outputs": [],
   "source": []
  },
  {
   "cell_type": "code",
   "execution_count": null,
   "id": "e3212078-0bde-4b4b-b729-07c37ca800aa",
   "metadata": {},
   "outputs": [],
   "source": []
  },
  {
   "cell_type": "code",
   "execution_count": null,
   "id": "bcd5227b-aa2a-4ec9-acf9-f577a390f1e8",
   "metadata": {},
   "outputs": [],
   "source": []
  },
  {
   "cell_type": "code",
   "execution_count": null,
   "id": "e766a6c5-5e10-420e-bdd1-28d44a6e5328",
   "metadata": {},
   "outputs": [],
   "source": []
  },
  {
   "cell_type": "code",
   "execution_count": null,
   "id": "be6edddc-4e06-4e7d-9ea8-a24563cc04b6",
   "metadata": {},
   "outputs": [],
   "source": [
    "\n"
   ]
  },
  {
   "cell_type": "code",
   "execution_count": null,
   "id": "240af0d2-10e9-41a2-a8e6-66f0883fd588",
   "metadata": {},
   "outputs": [],
   "source": []
  },
  {
   "cell_type": "code",
   "execution_count": null,
   "id": "697ed50b-1801-499d-b39c-5dd3a14ef884",
   "metadata": {},
   "outputs": [],
   "source": []
  },
  {
   "cell_type": "code",
   "execution_count": null,
   "id": "da37aa51-4d9d-49ff-886a-9bf8fccb0a52",
   "metadata": {},
   "outputs": [],
   "source": []
  },
  {
   "cell_type": "code",
   "execution_count": null,
   "id": "e96d9855-d189-4c6a-a0d8-0e7d89754b61",
   "metadata": {},
   "outputs": [],
   "source": []
  },
  {
   "cell_type": "code",
   "execution_count": null,
   "id": "fdec8f38-896e-4d23-b228-14ece25b0c51",
   "metadata": {},
   "outputs": [],
   "source": []
  },
  {
   "cell_type": "code",
   "execution_count": null,
   "id": "5692d568-ae5a-45d0-8f4c-9e17e88f1c6b",
   "metadata": {},
   "outputs": [],
   "source": []
  },
  {
   "cell_type": "code",
   "execution_count": null,
   "id": "44258e4d-4139-4a72-a2f3-345524bb581b",
   "metadata": {},
   "outputs": [],
   "source": []
  },
  {
   "cell_type": "code",
   "execution_count": null,
   "id": "a4aedd99-70b0-46e6-9ba3-5d7330d9d0f3",
   "metadata": {},
   "outputs": [],
   "source": []
  },
  {
   "cell_type": "code",
   "execution_count": null,
   "id": "faaaf4e0-62ac-4bf7-82e1-0041c409932b",
   "metadata": {},
   "outputs": [],
   "source": []
  }
 ],
 "metadata": {
  "kernelspec": {
   "display_name": "Python 3 (ipykernel)",
   "language": "python",
   "name": "python3"
  },
  "language_info": {
   "codemirror_mode": {
    "name": "ipython",
    "version": 3
   },
   "file_extension": ".py",
   "mimetype": "text/x-python",
   "name": "python",
   "nbconvert_exporter": "python",
   "pygments_lexer": "ipython3",
   "version": "3.12.4"
  }
 },
 "nbformat": 4,
 "nbformat_minor": 5
}
